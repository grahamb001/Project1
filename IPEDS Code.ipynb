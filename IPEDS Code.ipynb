{
 "cells": [
  {
   "cell_type": "code",
   "execution_count": 23,
   "metadata": {},
   "outputs": [],
   "source": [
    "# Import Dependencies\n",
    "import pandas as pd\n",
    "import matplotlib.pyplot as plt\n",
    "import numpy as np"
   ]
  },
  {
   "cell_type": "code",
   "execution_count": 24,
   "metadata": {},
   "outputs": [
    {
     "data": {
      "text/html": [
       "<div>\n",
       "<style scoped>\n",
       "    .dataframe tbody tr th:only-of-type {\n",
       "        vertical-align: middle;\n",
       "    }\n",
       "\n",
       "    .dataframe tbody tr th {\n",
       "        vertical-align: top;\n",
       "    }\n",
       "\n",
       "    .dataframe thead th {\n",
       "        text-align: right;\n",
       "    }\n",
       "</style>\n",
       "<table border=\"1\" class=\"dataframe\">\n",
       "  <thead>\n",
       "    <tr style=\"text-align: right;\">\n",
       "      <th></th>\n",
       "      <th>unitid</th>\n",
       "      <th>institution name</th>\n",
       "      <th>year</th>\n",
       "      <th>EF2001D1.Type of student counted</th>\n",
       "      <th>EF2001D1.Grand total</th>\n",
       "      <th>IDX_EF</th>\n",
       "    </tr>\n",
       "  </thead>\n",
       "  <tbody>\n",
       "    <tr>\n",
       "      <th>0</th>\n",
       "      <td>100654</td>\n",
       "      <td>Alabama A &amp; M University</td>\n",
       "      <td>2001.0</td>\n",
       "      <td>Undergraduate</td>\n",
       "      <td>4693.0</td>\n",
       "      <td>-2.0</td>\n",
       "    </tr>\n",
       "    <tr>\n",
       "      <th>1</th>\n",
       "      <td>100663</td>\n",
       "      <td>University of Alabama at Birmingham</td>\n",
       "      <td>2001.0</td>\n",
       "      <td>Undergraduate</td>\n",
       "      <td>12910.0</td>\n",
       "      <td>-2.0</td>\n",
       "    </tr>\n",
       "    <tr>\n",
       "      <th>2</th>\n",
       "      <td>100706</td>\n",
       "      <td>University of Alabama in Huntsville</td>\n",
       "      <td>2001.0</td>\n",
       "      <td>Undergraduate</td>\n",
       "      <td>6529.0</td>\n",
       "      <td>-2.0</td>\n",
       "    </tr>\n",
       "    <tr>\n",
       "      <th>3</th>\n",
       "      <td>100724</td>\n",
       "      <td>Alabama State University</td>\n",
       "      <td>2001.0</td>\n",
       "      <td>Undergraduate</td>\n",
       "      <td>5228.0</td>\n",
       "      <td>-2.0</td>\n",
       "    </tr>\n",
       "    <tr>\n",
       "      <th>4</th>\n",
       "      <td>100751</td>\n",
       "      <td>The University of Alabama</td>\n",
       "      <td>2001.0</td>\n",
       "      <td>Undergraduate</td>\n",
       "      <td>16983.0</td>\n",
       "      <td>-2.0</td>\n",
       "    </tr>\n",
       "  </tbody>\n",
       "</table>\n",
       "</div>"
      ],
      "text/plain": [
       "   unitid                     institution name    year  \\\n",
       "0  100654             Alabama A & M University  2001.0   \n",
       "1  100663  University of Alabama at Birmingham  2001.0   \n",
       "2  100706  University of Alabama in Huntsville  2001.0   \n",
       "3  100724             Alabama State University  2001.0   \n",
       "4  100751            The University of Alabama  2001.0   \n",
       "\n",
       "  EF2001D1.Type of student counted  EF2001D1.Grand total  IDX_EF  \n",
       "0                    Undergraduate                4693.0    -2.0  \n",
       "1                    Undergraduate               12910.0    -2.0  \n",
       "2                    Undergraduate                6529.0    -2.0  \n",
       "3                    Undergraduate                5228.0    -2.0  \n",
       "4                    Undergraduate               16983.0    -2.0  "
      ]
     },
     "execution_count": 24,
     "metadata": {},
     "output_type": "execute_result"
    }
   ],
   "source": [
    "# Create a reference the CSV file desired\n",
    "enrollment_csv = \"Enrollment -- 12-Month Enrollment Rates 2001-17/Comprehensive 12-Month Enrollment Rates 2001-17.csv\"\n",
    "\n",
    "# Read the CSV into a Pandas DataFrame\n",
    "enrollment_df = pd.read_csv(enrollment_csv)\n",
    "\n",
    "# Print the first five rows of data to the screen\n",
    "enrollment_df.head()"
   ]
  },
  {
   "cell_type": "code",
   "execution_count": 25,
   "metadata": {},
   "outputs": [
    {
     "name": "stdout",
     "output_type": "stream",
     "text": [
      "90267\n"
     ]
    }
   ],
   "source": [
    "# How many institutions are we starting with?\n",
    "totalInstitutions = len(enrollment_df)\n",
    "print(totalInstitutions)"
   ]
  },
  {
   "cell_type": "code",
   "execution_count": 26,
   "metadata": {},
   "outputs": [
    {
     "data": {
      "text/html": [
       "<div>\n",
       "<style scoped>\n",
       "    .dataframe tbody tr th:only-of-type {\n",
       "        vertical-align: middle;\n",
       "    }\n",
       "\n",
       "    .dataframe tbody tr th {\n",
       "        vertical-align: top;\n",
       "    }\n",
       "\n",
       "    .dataframe thead th {\n",
       "        text-align: right;\n",
       "    }\n",
       "</style>\n",
       "<table border=\"1\" class=\"dataframe\">\n",
       "  <thead>\n",
       "    <tr style=\"text-align: right;\">\n",
       "      <th></th>\n",
       "      <th>unitid</th>\n",
       "      <th>institution name</th>\n",
       "      <th>year</th>\n",
       "      <th>EF2001D1.Type of student counted</th>\n",
       "      <th>EF2001D1.Grand total</th>\n",
       "    </tr>\n",
       "  </thead>\n",
       "  <tbody>\n",
       "    <tr>\n",
       "      <th>0</th>\n",
       "      <td>100654</td>\n",
       "      <td>Alabama A &amp; M University</td>\n",
       "      <td>2001.0</td>\n",
       "      <td>Undergraduate</td>\n",
       "      <td>4693.0</td>\n",
       "    </tr>\n",
       "    <tr>\n",
       "      <th>1</th>\n",
       "      <td>100663</td>\n",
       "      <td>University of Alabama at Birmingham</td>\n",
       "      <td>2001.0</td>\n",
       "      <td>Undergraduate</td>\n",
       "      <td>12910.0</td>\n",
       "    </tr>\n",
       "    <tr>\n",
       "      <th>2</th>\n",
       "      <td>100706</td>\n",
       "      <td>University of Alabama in Huntsville</td>\n",
       "      <td>2001.0</td>\n",
       "      <td>Undergraduate</td>\n",
       "      <td>6529.0</td>\n",
       "    </tr>\n",
       "    <tr>\n",
       "      <th>3</th>\n",
       "      <td>100724</td>\n",
       "      <td>Alabama State University</td>\n",
       "      <td>2001.0</td>\n",
       "      <td>Undergraduate</td>\n",
       "      <td>5228.0</td>\n",
       "    </tr>\n",
       "    <tr>\n",
       "      <th>4</th>\n",
       "      <td>100751</td>\n",
       "      <td>The University of Alabama</td>\n",
       "      <td>2001.0</td>\n",
       "      <td>Undergraduate</td>\n",
       "      <td>16983.0</td>\n",
       "    </tr>\n",
       "  </tbody>\n",
       "</table>\n",
       "</div>"
      ],
      "text/plain": [
       "   unitid                     institution name    year  \\\n",
       "0  100654             Alabama A & M University  2001.0   \n",
       "1  100663  University of Alabama at Birmingham  2001.0   \n",
       "2  100706  University of Alabama in Huntsville  2001.0   \n",
       "3  100724             Alabama State University  2001.0   \n",
       "4  100751            The University of Alabama  2001.0   \n",
       "\n",
       "  EF2001D1.Type of student counted  EF2001D1.Grand total  \n",
       "0                    Undergraduate                4693.0  \n",
       "1                    Undergraduate               12910.0  \n",
       "2                    Undergraduate                6529.0  \n",
       "3                    Undergraduate                5228.0  \n",
       "4                    Undergraduate               16983.0  "
      ]
     },
     "execution_count": 26,
     "metadata": {},
     "output_type": "execute_result"
    }
   ],
   "source": [
    "# Delete columns that we're not interested in (The variable IDX_EF contains the UNITID of the parent institution.)\n",
    "enrollment_df = enrollment_df.drop([\"IDX_EF\"], axis=1)\n",
    "enrollment_df.head()"
   ]
  },
  {
   "cell_type": "code",
   "execution_count": 27,
   "metadata": {},
   "outputs": [
    {
     "name": "stdout",
     "output_type": "stream",
     "text": [
      "90250\n"
     ]
    }
   ],
   "source": [
    "# Remove the rows with missing data\n",
    "enrollment_df = enrollment_df.dropna(how=\"any\")\n",
    "institutionsMinusBlanks = len(enrollment_df)\n",
    "print(institutionsMinusBlanks)"
   ]
  },
  {
   "cell_type": "code",
   "execution_count": 28,
   "metadata": {},
   "outputs": [
    {
     "name": "stdout",
     "output_type": "stream",
     "text": [
      "17\n"
     ]
    }
   ],
   "source": [
    "# How many institutions had data that wasn't incuded?\n",
    "instutionsWithoutData = (totalInstitutions - institutionsMinusBlanks)\n",
    "print(instutionsWithoutData)"
   ]
  },
  {
   "cell_type": "code",
   "execution_count": 29,
   "metadata": {},
   "outputs": [
    {
     "data": {
      "text/html": [
       "<div>\n",
       "<style scoped>\n",
       "    .dataframe tbody tr th:only-of-type {\n",
       "        vertical-align: middle;\n",
       "    }\n",
       "\n",
       "    .dataframe tbody tr th {\n",
       "        vertical-align: top;\n",
       "    }\n",
       "\n",
       "    .dataframe thead th {\n",
       "        text-align: right;\n",
       "    }\n",
       "</style>\n",
       "<table border=\"1\" class=\"dataframe\">\n",
       "  <thead>\n",
       "    <tr style=\"text-align: right;\">\n",
       "      <th></th>\n",
       "      <th>unitid</th>\n",
       "      <th>institution name</th>\n",
       "      <th>year</th>\n",
       "      <th>EF2001D1.Type of student counted</th>\n",
       "      <th>EF2001D1.Grand total</th>\n",
       "    </tr>\n",
       "  </thead>\n",
       "  <tbody>\n",
       "    <tr>\n",
       "      <th>0</th>\n",
       "      <td>100654</td>\n",
       "      <td>Alabama A &amp; M University</td>\n",
       "      <td>2001</td>\n",
       "      <td>Undergraduate</td>\n",
       "      <td>4693.0</td>\n",
       "    </tr>\n",
       "    <tr>\n",
       "      <th>1</th>\n",
       "      <td>100663</td>\n",
       "      <td>University of Alabama at Birmingham</td>\n",
       "      <td>2001</td>\n",
       "      <td>Undergraduate</td>\n",
       "      <td>12910.0</td>\n",
       "    </tr>\n",
       "    <tr>\n",
       "      <th>2</th>\n",
       "      <td>100706</td>\n",
       "      <td>University of Alabama in Huntsville</td>\n",
       "      <td>2001</td>\n",
       "      <td>Undergraduate</td>\n",
       "      <td>6529.0</td>\n",
       "    </tr>\n",
       "    <tr>\n",
       "      <th>3</th>\n",
       "      <td>100724</td>\n",
       "      <td>Alabama State University</td>\n",
       "      <td>2001</td>\n",
       "      <td>Undergraduate</td>\n",
       "      <td>5228.0</td>\n",
       "    </tr>\n",
       "    <tr>\n",
       "      <th>4</th>\n",
       "      <td>100751</td>\n",
       "      <td>The University of Alabama</td>\n",
       "      <td>2001</td>\n",
       "      <td>Undergraduate</td>\n",
       "      <td>16983.0</td>\n",
       "    </tr>\n",
       "  </tbody>\n",
       "</table>\n",
       "</div>"
      ],
      "text/plain": [
       "   unitid                     institution name  year  \\\n",
       "0  100654             Alabama A & M University  2001   \n",
       "1  100663  University of Alabama at Birmingham  2001   \n",
       "2  100706  University of Alabama in Huntsville  2001   \n",
       "3  100724             Alabama State University  2001   \n",
       "4  100751            The University of Alabama  2001   \n",
       "\n",
       "  EF2001D1.Type of student counted  EF2001D1.Grand total  \n",
       "0                    Undergraduate                4693.0  \n",
       "1                    Undergraduate               12910.0  \n",
       "2                    Undergraduate                6529.0  \n",
       "3                    Undergraduate                5228.0  \n",
       "4                    Undergraduate               16983.0  "
      ]
     },
     "execution_count": 29,
     "metadata": {},
     "output_type": "execute_result"
    }
   ],
   "source": [
    "#As type to change the years type to get rid of those pesky .0 and replace the current year column with this new clean one\n",
    "enrollment_df[\"year\"]=enrollment_df[\"year\"].astype(int)\n",
    "enrollment_df.head()"
   ]
  },
  {
   "cell_type": "code",
   "execution_count": 30,
   "metadata": {},
   "outputs": [
    {
     "name": "stdout",
     "output_type": "stream",
     "text": [
      "2001    4253\n",
      "2002    4522\n",
      "2003    4604\n",
      "2004    4682\n",
      "2005    4762\n",
      "2006    4841\n",
      "2007    4910\n",
      "2008    5025\n",
      "2009    5176\n",
      "2010    5409\n",
      "2011    5607\n",
      "2012    5751\n",
      "2013    5891\n",
      "2014    6038\n",
      "2015    6174\n",
      "2016    6275\n",
      "2017    6330\n",
      "Name: year, dtype: int64\n"
     ]
    }
   ],
   "source": [
    "# Count how many Institution entries do we have per year\n",
    "InstitutionYearCounts = enrollment_df[\"year\"].value_counts()\n",
    "InstitutionYearCounts = InstitutionYearCounts.sort_values(axis=0, ascending=True)\n",
    "print(InstitutionYearCounts)"
   ]
  },
  {
   "cell_type": "code",
   "execution_count": 31,
   "metadata": {},
   "outputs": [
    {
     "data": {
      "image/png": "[encoded data removed]",
      "text/plain": [
       "<Figure size 432x288 with 1 Axes>"
      ]
     },
     "metadata": {},
     "output_type": "display_data"
    },
    {
     "data": {
      "text/plain": [
       "<Figure size 432x288 with 0 Axes>"
      ]
     },
     "metadata": {},
     "output_type": "display_data"
    }
   ],
   "source": [
    "# Create a bar chart based off of the group series from before\n",
    "institutionCountBar = InstitutionYearCounts.plot(kind='bar')\n",
    "\n",
    "# Set the xlabel and ylabel using class methods\n",
    "institutionCountBar.set_xlabel(\"Year\")\n",
    "institutionCountBar.set_ylabel(\"Number of Institutions\")\n",
    "\n",
    "\n",
    "plt.show()\n",
    "plt.tight_layout()"
   ]
  },
  {
   "cell_type": "code",
   "execution_count": 32,
   "metadata": {
    "scrolled": false
   },
   "outputs": [
    {
     "data": {
      "image/png": "[encoded data removed]",
      "text/plain": [
       "<Figure size 432x288 with 1 Axes>"
      ]
     },
     "metadata": {},
     "output_type": "display_data"
    }
   ],
   "source": [
    "institutionCountLine = InstitutionYearCounts.plot.line(style='.-', x='index', marker ='o', color='blue')\n",
    "institutionCountLine.set_ylim(ymin=3000, ymax=7000)\n",
    "institutionCountLine.set_xlim(xmin=2000, xmax=2018)\n",
    "plt.title(\"IPEDS Institution Count 2001-2017\")\n",
    "plt.xlabel(\"Year\")\n",
    "plt.ylabel(\"Number of Institutions\")\n",
    "plt.grid()"
   ]
  },
  {
   "cell_type": "code",
   "execution_count": 33,
   "metadata": {},
   "outputs": [
    {
     "data": {
      "text/plain": [
       "365252506.0"
      ]
     },
     "execution_count": 33,
     "metadata": {},
     "output_type": "execute_result"
    }
   ],
   "source": [
    "#Total enrollment numbers between 2001 and 2017 = sum EF2001D1.Grand total per year\n",
    "pd.to_numeric(enrollment_df['EF2001D1.Grand total'])\n",
    "enrollment_df.dtypes\n",
    "totalEnrollment = enrollment_df[\"EF2001D1.Grand total\"].sum()\n",
    "totalEnrollment"
   ]
  },
  {
   "cell_type": "code",
   "execution_count": 34,
   "metadata": {},
   "outputs": [
    {
     "data": {
      "text/html": [
       "<div>\n",
       "<style scoped>\n",
       "    .dataframe tbody tr th:only-of-type {\n",
       "        vertical-align: middle;\n",
       "    }\n",
       "\n",
       "    .dataframe tbody tr th {\n",
       "        vertical-align: top;\n",
       "    }\n",
       "\n",
       "    .dataframe thead th {\n",
       "        text-align: right;\n",
       "    }\n",
       "</style>\n",
       "<table border=\"1\" class=\"dataframe\">\n",
       "  <thead>\n",
       "    <tr style=\"text-align: right;\">\n",
       "      <th></th>\n",
       "      <th>EF2001D1.Grand total</th>\n",
       "    </tr>\n",
       "    <tr>\n",
       "      <th>year</th>\n",
       "      <th></th>\n",
       "    </tr>\n",
       "  </thead>\n",
       "  <tbody>\n",
       "    <tr>\n",
       "      <th>2001</th>\n",
       "      <td>17965501.0</td>\n",
       "    </tr>\n",
       "    <tr>\n",
       "      <th>2002</th>\n",
       "      <td>18774604.0</td>\n",
       "    </tr>\n",
       "    <tr>\n",
       "      <th>2003</th>\n",
       "      <td>19385482.0</td>\n",
       "    </tr>\n",
       "    <tr>\n",
       "      <th>2004</th>\n",
       "      <td>19493543.0</td>\n",
       "    </tr>\n",
       "    <tr>\n",
       "      <th>2005</th>\n",
       "      <td>19792638.0</td>\n",
       "    </tr>\n",
       "    <tr>\n",
       "      <th>2006</th>\n",
       "      <td>19957444.0</td>\n",
       "    </tr>\n",
       "    <tr>\n",
       "      <th>2007</th>\n",
       "      <td>20240347.0</td>\n",
       "    </tr>\n",
       "    <tr>\n",
       "      <th>2008</th>\n",
       "      <td>20714313.0</td>\n",
       "    </tr>\n",
       "    <tr>\n",
       "      <th>2009</th>\n",
       "      <td>21913240.0</td>\n",
       "    </tr>\n",
       "    <tr>\n",
       "      <th>2010</th>\n",
       "      <td>23155497.0</td>\n",
       "    </tr>\n",
       "    <tr>\n",
       "      <th>2011</th>\n",
       "      <td>23766408.0</td>\n",
       "    </tr>\n",
       "    <tr>\n",
       "      <th>2012</th>\n",
       "      <td>23767003.0</td>\n",
       "    </tr>\n",
       "    <tr>\n",
       "      <th>2013</th>\n",
       "      <td>23436250.0</td>\n",
       "    </tr>\n",
       "    <tr>\n",
       "      <th>2014</th>\n",
       "      <td>23508832.0</td>\n",
       "    </tr>\n",
       "    <tr>\n",
       "      <th>2015</th>\n",
       "      <td>23315905.0</td>\n",
       "    </tr>\n",
       "    <tr>\n",
       "      <th>2016</th>\n",
       "      <td>23149016.0</td>\n",
       "    </tr>\n",
       "    <tr>\n",
       "      <th>2017</th>\n",
       "      <td>22916483.0</td>\n",
       "    </tr>\n",
       "  </tbody>\n",
       "</table>\n",
       "</div>"
      ],
      "text/plain": [
       "      EF2001D1.Grand total\n",
       "year                      \n",
       "2001            17965501.0\n",
       "2002            18774604.0\n",
       "2003            19385482.0\n",
       "2004            19493543.0\n",
       "2005            19792638.0\n",
       "2006            19957444.0\n",
       "2007            20240347.0\n",
       "2008            20714313.0\n",
       "2009            21913240.0\n",
       "2010            23155497.0\n",
       "2011            23766408.0\n",
       "2012            23767003.0\n",
       "2013            23436250.0\n",
       "2014            23508832.0\n",
       "2015            23315905.0\n",
       "2016            23149016.0\n",
       "2017            22916483.0"
      ]
     },
     "execution_count": 34,
     "metadata": {},
     "output_type": "execute_result"
    }
   ],
   "source": [
    "#Loop through years and add EF2001D1.Grand total if years match?\n",
    "\n",
    "\n",
    "enrollmentByYear = enrollment_df.groupby(\"year\")\n",
    "enrollmentByYear = enrollmentByYear.agg(sum)\n",
    "enrollmentByYear"
   ]
  },
  {
   "cell_type": "code",
   "execution_count": 35,
   "metadata": {},
   "outputs": [
    {
     "data": {
      "image/png": "[encoded data removed]",
      "text/plain": [
       "<Figure size 432x288 with 1 Axes>"
      ]
     },
     "metadata": {},
     "output_type": "display_data"
    },
    {
     "data": {
      "text/plain": [
       "<Figure size 432x288 with 0 Axes>"
      ]
     },
     "metadata": {},
     "output_type": "display_data"
    }
   ],
   "source": [
    "# Create a bar chart based off of the group series from before\n",
    "enrollmentByYearBar = enrollmentByYear.plot(kind='bar')\n",
    "\n",
    "# Set the xlabel and ylabel using class methods\n",
    "enrollmentByYearBar.set_xlabel(\"Year\")\n",
    "enrollmentByYearBar.set_ylabel(\"Enrollment\")\n",
    "\n",
    "\n",
    "plt.show()\n",
    "plt.tight_layout()"
   ]
  },
  {
   "cell_type": "code",
   "execution_count": 38,
   "metadata": {},
   "outputs": [
    {
     "data": {
      "image/png": "[encoded data removed]",
      "text/plain": [
       "<Figure size 432x288 with 1 Axes>"
      ]
     },
     "metadata": {},
     "output_type": "display_data"
    }
   ],
   "source": [
    "enrollmentByYearLine = enrollmentByYear.plot.line(style='.-', marker ='o', color='blue')\n",
    "enrollmentByYearLine.set_ylim(ymin=1500000, ymax=30000000)\n",
    "enrollmentByYearLine.set_xlim(xmin=2000, xmax=2018)\n",
    "plt.title(\"IPEDS Enrollment 2001-2017\")\n",
    "plt.xlabel(\"Year\")\n",
    "plt.ylabel(\"Number of Students Enrolled (M)\")\n",
    "plt.grid()"
   ]
  },
  {
   "cell_type": "code",
   "execution_count": null,
   "metadata": {},
   "outputs": [],
   "source": []
  },
  {
   "cell_type": "code",
   "execution_count": 15,
   "metadata": {},
   "outputs": [],
   "source": [
    "# DATA FAULT??: more and more institutions are reporting their enrollment data... are these new institutions, or are they simply\n",
    "# just now starting to report their data?\n",
    "# If we simply total enrollments per year from this dataset, it could look like enrollment rates are increasing, \n",
    "# when in reality we're just getting more data from new sources. \n",
    "# How do we more accurately show the data? Average? Enrollments/Institution? "
   ]
  },
  {
   "cell_type": "code",
   "execution_count": null,
   "metadata": {},
   "outputs": [],
   "source": []
  }
 ],
 "metadata": {
  "kernelspec": {
   "display_name": "Python 3",
   "language": "python",
   "name": "python3"
  },
  "language_info": {
   "codemirror_mode": {
    "name": "ipython",
    "version": 3
   },
   "file_extension": ".py",
   "mimetype": "text/x-python",
   "name": "python",
   "nbconvert_exporter": "python",
   "pygments_lexer": "ipython3",
   "version": "3.6.5"
  }
 },
 "nbformat": 4,
 "nbformat_minor": 2
}
