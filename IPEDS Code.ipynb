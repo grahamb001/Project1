{
 "cells": [
  {
   "cell_type": "code",
   "execution_count": 23,
   "metadata": {},
   "outputs": [],
   "source": [
    "# Import Dependencies\n",
    "import pandas as pd\n",
    "import matplotlib.pyplot as plt\n",
    "import numpy as np"
   ]
  },
  {
   "cell_type": "code",
   "execution_count": 24,
   "metadata": {},
   "outputs": [
    {
     "data": {
      "text/html": [
       "<div>\n",
       "<style scoped>\n",
       "    .dataframe tbody tr th:only-of-type {\n",
       "        vertical-align: middle;\n",
       "    }\n",
       "\n",
       "    .dataframe tbody tr th {\n",
       "        vertical-align: top;\n",
       "    }\n",
       "\n",
       "    .dataframe thead th {\n",
       "        text-align: right;\n",
       "    }\n",
       "</style>\n",
       "<table border=\"1\" class=\"dataframe\">\n",
       "  <thead>\n",
       "    <tr style=\"text-align: right;\">\n",
       "      <th></th>\n",
       "      <th>unitid</th>\n",
       "      <th>institution name</th>\n",
       "      <th>year</th>\n",
       "      <th>EF2001D1.Type of student counted</th>\n",
       "      <th>EF2001D1.Grand total</th>\n",
       "      <th>IDX_EF</th>\n",
       "    </tr>\n",
       "  </thead>\n",
       "  <tbody>\n",
       "    <tr>\n",
       "      <th>0</th>\n",
       "      <td>100654</td>\n",
       "      <td>Alabama A &amp; M University</td>\n",
       "      <td>2001.0</td>\n",
       "      <td>Undergraduate</td>\n",
       "      <td>4693.0</td>\n",
       "      <td>-2.0</td>\n",
       "    </tr>\n",
       "    <tr>\n",
       "      <th>1</th>\n",
       "      <td>100663</td>\n",
       "      <td>University of Alabama at Birmingham</td>\n",
       "      <td>2001.0</td>\n",
       "      <td>Undergraduate</td>\n",
       "      <td>12910.0</td>\n",
       "      <td>-2.0</td>\n",
       "    </tr>\n",
       "    <tr>\n",
       "      <th>2</th>\n",
       "      <td>100706</td>\n",
       "      <td>University of Alabama in Huntsville</td>\n",
       "      <td>2001.0</td>\n",
       "      <td>Undergraduate</td>\n",
       "      <td>6529.0</td>\n",
       "      <td>-2.0</td>\n",
       "    </tr>\n",
       "    <tr>\n",
       "      <th>3</th>\n",
       "      <td>100724</td>\n",
       "      <td>Alabama State University</td>\n",
       "      <td>2001.0</td>\n",
       "      <td>Undergraduate</td>\n",
       "      <td>5228.0</td>\n",
       "      <td>-2.0</td>\n",
       "    </tr>\n",
       "    <tr>\n",
       "      <th>4</th>\n",
       "      <td>100751</td>\n",
       "      <td>The University of Alabama</td>\n",
       "      <td>2001.0</td>\n",
       "      <td>Undergraduate</td>\n",
       "      <td>16983.0</td>\n",
       "      <td>-2.0</td>\n",
       "    </tr>\n",
       "  </tbody>\n",
       "</table>\n",
       "</div>"
      ],
      "text/plain": [
       "   unitid                     institution name    year  \\\n",
       "0  100654             Alabama A & M University  2001.0   \n",
       "1  100663  University of Alabama at Birmingham  2001.0   \n",
       "2  100706  University of Alabama in Huntsville  2001.0   \n",
       "3  100724             Alabama State University  2001.0   \n",
       "4  100751            The University of Alabama  2001.0   \n",
       "\n",
       "  EF2001D1.Type of student counted  EF2001D1.Grand total  IDX_EF  \n",
       "0                    Undergraduate                4693.0    -2.0  \n",
       "1                    Undergraduate               12910.0    -2.0  \n",
       "2                    Undergraduate                6529.0    -2.0  \n",
       "3                    Undergraduate                5228.0    -2.0  \n",
       "4                    Undergraduate               16983.0    -2.0  "
      ]
     },
     "execution_count": 24,
     "metadata": {},
     "output_type": "execute_result"
    }
   ],
   "source": [
    "# Create a reference the CSV file desired\n",
    "enrollment_csv = \"Enrollment -- 12-Month Enrollment Rates 2001-17/Comprehensive 12-Month Enrollment Rates 2001-17.csv\"\n",
    "\n",
    "# Read the CSV into a Pandas DataFrame\n",
    "enrollment_df = pd.read_csv(enrollment_csv)\n",
    "\n",
    "# Print the first five rows of data to the screen\n",
    "enrollment_df.head()"
   ]
  },
  {
   "cell_type": "code",
   "execution_count": 25,
   "metadata": {},
   "outputs": [
    {
     "name": "stdout",
     "output_type": "stream",
     "text": [
      "90267\n"
     ]
    }
   ],
   "source": [
    "# How many institutions are we starting with?\n",
    "totalInstitutions = len(enrollment_df)\n",
    "print(totalInstitutions)"
   ]
  },
  {
   "cell_type": "code",
   "execution_count": 26,
   "metadata": {},
   "outputs": [
    {
     "data": {
      "text/html": [
       "<div>\n",
       "<style scoped>\n",
       "    .dataframe tbody tr th:only-of-type {\n",
       "        vertical-align: middle;\n",
       "    }\n",
       "\n",
       "    .dataframe tbody tr th {\n",
       "        vertical-align: top;\n",
       "    }\n",
       "\n",
       "    .dataframe thead th {\n",
       "        text-align: right;\n",
       "    }\n",
       "</style>\n",
       "<table border=\"1\" class=\"dataframe\">\n",
       "  <thead>\n",
       "    <tr style=\"text-align: right;\">\n",
       "      <th></th>\n",
       "      <th>unitid</th>\n",
       "      <th>institution name</th>\n",
       "      <th>year</th>\n",
       "      <th>EF2001D1.Type of student counted</th>\n",
       "      <th>EF2001D1.Grand total</th>\n",
       "    </tr>\n",
       "  </thead>\n",
       "  <tbody>\n",
       "    <tr>\n",
       "      <th>0</th>\n",
       "      <td>100654</td>\n",
       "      <td>Alabama A &amp; M University</td>\n",
       "      <td>2001.0</td>\n",
       "      <td>Undergraduate</td>\n",
       "      <td>4693.0</td>\n",
       "    </tr>\n",
       "    <tr>\n",
       "      <th>1</th>\n",
       "      <td>100663</td>\n",
       "      <td>University of Alabama at Birmingham</td>\n",
       "      <td>2001.0</td>\n",
       "      <td>Undergraduate</td>\n",
       "      <td>12910.0</td>\n",
       "    </tr>\n",
       "    <tr>\n",
       "      <th>2</th>\n",
       "      <td>100706</td>\n",
       "      <td>University of Alabama in Huntsville</td>\n",
       "      <td>2001.0</td>\n",
       "      <td>Undergraduate</td>\n",
       "      <td>6529.0</td>\n",
       "    </tr>\n",
       "    <tr>\n",
       "      <th>3</th>\n",
       "      <td>100724</td>\n",
       "      <td>Alabama State University</td>\n",
       "      <td>2001.0</td>\n",
       "      <td>Undergraduate</td>\n",
       "      <td>5228.0</td>\n",
       "    </tr>\n",
       "    <tr>\n",
       "      <th>4</th>\n",
       "      <td>100751</td>\n",
       "      <td>The University of Alabama</td>\n",
       "      <td>2001.0</td>\n",
       "      <td>Undergraduate</td>\n",
       "      <td>16983.0</td>\n",
       "    </tr>\n",
       "  </tbody>\n",
       "</table>\n",
       "</div>"
      ],
      "text/plain": [
       "   unitid                     institution name    year  \\\n",
       "0  100654             Alabama A & M University  2001.0   \n",
       "1  100663  University of Alabama at Birmingham  2001.0   \n",
       "2  100706  University of Alabama in Huntsville  2001.0   \n",
       "3  100724             Alabama State University  2001.0   \n",
       "4  100751            The University of Alabama  2001.0   \n",
       "\n",
       "  EF2001D1.Type of student counted  EF2001D1.Grand total  \n",
       "0                    Undergraduate                4693.0  \n",
       "1                    Undergraduate               12910.0  \n",
       "2                    Undergraduate                6529.0  \n",
       "3                    Undergraduate                5228.0  \n",
       "4                    Undergraduate               16983.0  "
      ]
     },
     "execution_count": 26,
     "metadata": {},
     "output_type": "execute_result"
    }
   ],
   "source": [
    "# Delete columns that we're not interested in (The variable IDX_EF contains the UNITID of the parent institution.)\n",
    "enrollment_df = enrollment_df.drop([\"IDX_EF\"], axis=1)\n",
    "enrollment_df.head()"
   ]
  },
  {
   "cell_type": "code",
   "execution_count": 27,
   "metadata": {},
   "outputs": [
    {
     "name": "stdout",
     "output_type": "stream",
     "text": [
      "90250\n"
     ]
    }
   ],
   "source": [
    "# Remove the rows with missing data\n",
    "enrollment_df = enrollment_df.dropna(how=\"any\")\n",
    "institutionsMinusBlanks = len(enrollment_df)\n",
    "print(institutionsMinusBlanks)"
   ]
  },
  {
   "cell_type": "code",
   "execution_count": 28,
   "metadata": {},
   "outputs": [
    {
     "name": "stdout",
     "output_type": "stream",
     "text": [
      "17\n"
     ]
    }
   ],
   "source": [
    "# How many institutions had data that wasn't incuded?\n",
    "instutionsWithoutData = (totalInstitutions - institutionsMinusBlanks)\n",
    "print(instutionsWithoutData)"
   ]
  },
  {
   "cell_type": "code",
   "execution_count": 29,
   "metadata": {},
   "outputs": [
    {
     "data": {
      "text/html": [
       "<div>\n",
       "<style scoped>\n",
       "    .dataframe tbody tr th:only-of-type {\n",
       "        vertical-align: middle;\n",
       "    }\n",
       "\n",
       "    .dataframe tbody tr th {\n",
       "        vertical-align: top;\n",
       "    }\n",
       "\n",
       "    .dataframe thead th {\n",
       "        text-align: right;\n",
       "    }\n",
       "</style>\n",
       "<table border=\"1\" class=\"dataframe\">\n",
       "  <thead>\n",
       "    <tr style=\"text-align: right;\">\n",
       "      <th></th>\n",
       "      <th>unitid</th>\n",
       "      <th>institution name</th>\n",
       "      <th>year</th>\n",
       "      <th>EF2001D1.Type of student counted</th>\n",
       "      <th>EF2001D1.Grand total</th>\n",
       "    </tr>\n",
       "  </thead>\n",
       "  <tbody>\n",
       "    <tr>\n",
       "      <th>0</th>\n",
       "      <td>100654</td>\n",
       "      <td>Alabama A &amp; M University</td>\n",
       "      <td>2001</td>\n",
       "      <td>Undergraduate</td>\n",
       "      <td>4693.0</td>\n",
       "    </tr>\n",
       "    <tr>\n",
       "      <th>1</th>\n",
       "      <td>100663</td>\n",
       "      <td>University of Alabama at Birmingham</td>\n",
       "      <td>2001</td>\n",
       "      <td>Undergraduate</td>\n",
       "      <td>12910.0</td>\n",
       "    </tr>\n",
       "    <tr>\n",
       "      <th>2</th>\n",
       "      <td>100706</td>\n",
       "      <td>University of Alabama in Huntsville</td>\n",
       "      <td>2001</td>\n",
       "      <td>Undergraduate</td>\n",
       "      <td>6529.0</td>\n",
       "    </tr>\n",
       "    <tr>\n",
       "      <th>3</th>\n",
       "      <td>100724</td>\n",
       "      <td>Alabama State University</td>\n",
       "      <td>2001</td>\n",
       "      <td>Undergraduate</td>\n",
       "      <td>5228.0</td>\n",
       "    </tr>\n",
       "    <tr>\n",
       "      <th>4</th>\n",
       "      <td>100751</td>\n",
       "      <td>The University of Alabama</td>\n",
       "      <td>2001</td>\n",
       "      <td>Undergraduate</td>\n",
       "      <td>16983.0</td>\n",
       "    </tr>\n",
       "  </tbody>\n",
       "</table>\n",
       "</div>"
      ],
      "text/plain": [
       "   unitid                     institution name  year  \\\n",
       "0  100654             Alabama A & M University  2001   \n",
       "1  100663  University of Alabama at Birmingham  2001   \n",
       "2  100706  University of Alabama in Huntsville  2001   \n",
       "3  100724             Alabama State University  2001   \n",
       "4  100751            The University of Alabama  2001   \n",
       "\n",
       "  EF2001D1.Type of student counted  EF2001D1.Grand total  \n",
       "0                    Undergraduate                4693.0  \n",
       "1                    Undergraduate               12910.0  \n",
       "2                    Undergraduate                6529.0  \n",
       "3                    Undergraduate                5228.0  \n",
       "4                    Undergraduate               16983.0  "
      ]
     },
     "execution_count": 29,
     "metadata": {},
     "output_type": "execute_result"
    }
   ],
   "source": [
    "#As type to change the years type to get rid of those pesky .0 and replace the current year column with this new clean one\n",
    "enrollment_df[\"year\"]=enrollment_df[\"year\"].astype(int)\n",
    "enrollment_df.head()"
   ]
  },
  {
   "cell_type": "code",
   "execution_count": 30,
   "metadata": {},
   "outputs": [
    {
     "name": "stdout",
     "output_type": "stream",
     "text": [
      "2001    4253\n",
      "2002    4522\n",
      "2003    4604\n",
      "2004    4682\n",
      "2005    4762\n",
      "2006    4841\n",
      "2007    4910\n",
      "2008    5025\n",
      "2009    5176\n",
      "2010    5409\n",
      "2011    5607\n",
      "2012    5751\n",
      "2013    5891\n",
      "2014    6038\n",
      "2015    6174\n",
      "2016    6275\n",
      "2017    6330\n",
      "Name: year, dtype: int64\n"
     ]
    }
   ],
   "source": [
    "# Count how many Institution entries do we have per year\n",
    "InstitutionYearCounts = enrollment_df[\"year\"].value_counts()\n",
    "InstitutionYearCounts = InstitutionYearCounts.sort_values(axis=0, ascending=True)\n",
    "print(InstitutionYearCounts)"
   ]
  },
  {
   "cell_type": "code",
   "execution_count": 31,
   "metadata": {},
   "outputs": [
    {
     "data": {
      "image/png": "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\n",
      "text/plain": [
       "<Figure size 432x288 with 1 Axes>"
      ]
     },
     "metadata": {},
     "output_type": "display_data"
    },
    {
     "data": {
      "text/plain": [
       "<Figure size 432x288 with 0 Axes>"
      ]
     },
     "metadata": {},
     "output_type": "display_data"
    }
   ],
   "source": [
    "# Create a bar chart based off of the group series from before\n",
    "institutionCountBar = InstitutionYearCounts.plot(kind='bar')\n",
    "\n",
    "# Set the xlabel and ylabel using class methods\n",
    "institutionCountBar.set_xlabel(\"Year\")\n",
    "institutionCountBar.set_ylabel(\"Number of Institutions\")\n",
    "\n",
    "\n",
    "plt.show()\n",
    "plt.tight_layout()"
   ]
  },
  {
   "cell_type": "code",
   "execution_count": 32,
   "metadata": {
    "scrolled": false
   },
   "outputs": [
    {
     "data": {
      "image/png": "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\n",
      "text/plain": [
       "<Figure size 432x288 with 1 Axes>"
      ]
     },
     "metadata": {},
     "output_type": "display_data"
    }
   ],
   "source": [
    "institutionCountLine = InstitutionYearCounts.plot.line(style='.-', x='index', marker ='o', color='blue')\n",
    "institutionCountLine.set_ylim(ymin=3000, ymax=7000)\n",
    "institutionCountLine.set_xlim(xmin=2000, xmax=2018)\n",
    "plt.title(\"IPEDS Institution Count 2001-2017\")\n",
    "plt.xlabel(\"Year\")\n",
    "plt.ylabel(\"Number of Institutions\")\n",
    "plt.grid()"
   ]
  },
  {
   "cell_type": "code",
   "execution_count": 33,
   "metadata": {},
   "outputs": [
    {
     "data": {
      "text/plain": [
       "365252506.0"
      ]
     },
     "execution_count": 33,
     "metadata": {},
     "output_type": "execute_result"
    }
   ],
   "source": [
    "#Total enrollment numbers between 2001 and 2017 = sum EF2001D1.Grand total per year\n",
    "pd.to_numeric(enrollment_df['EF2001D1.Grand total'])\n",
    "enrollment_df.dtypes\n",
    "totalEnrollment = enrollment_df[\"EF2001D1.Grand total\"].sum()\n",
    "totalEnrollment"
   ]
  },
  {
   "cell_type": "code",
   "execution_count": 34,
   "metadata": {},
   "outputs": [
    {
     "data": {
      "text/html": [
       "<div>\n",
       "<style scoped>\n",
       "    .dataframe tbody tr th:only-of-type {\n",
       "        vertical-align: middle;\n",
       "    }\n",
       "\n",
       "    .dataframe tbody tr th {\n",
       "        vertical-align: top;\n",
       "    }\n",
       "\n",
       "    .dataframe thead th {\n",
       "        text-align: right;\n",
       "    }\n",
       "</style>\n",
       "<table border=\"1\" class=\"dataframe\">\n",
       "  <thead>\n",
       "    <tr style=\"text-align: right;\">\n",
       "      <th></th>\n",
       "      <th>EF2001D1.Grand total</th>\n",
       "    </tr>\n",
       "    <tr>\n",
       "      <th>year</th>\n",
       "      <th></th>\n",
       "    </tr>\n",
       "  </thead>\n",
       "  <tbody>\n",
       "    <tr>\n",
       "      <th>2001</th>\n",
       "      <td>17965501.0</td>\n",
       "    </tr>\n",
       "    <tr>\n",
       "      <th>2002</th>\n",
       "      <td>18774604.0</td>\n",
       "    </tr>\n",
       "    <tr>\n",
       "      <th>2003</th>\n",
       "      <td>19385482.0</td>\n",
       "    </tr>\n",
       "    <tr>\n",
       "      <th>2004</th>\n",
       "      <td>19493543.0</td>\n",
       "    </tr>\n",
       "    <tr>\n",
       "      <th>2005</th>\n",
       "      <td>19792638.0</td>\n",
       "    </tr>\n",
       "    <tr>\n",
       "      <th>2006</th>\n",
       "      <td>19957444.0</td>\n",
       "    </tr>\n",
       "    <tr>\n",
       "      <th>2007</th>\n",
       "      <td>20240347.0</td>\n",
       "    </tr>\n",
       "    <tr>\n",
       "      <th>2008</th>\n",
       "      <td>20714313.0</td>\n",
       "    </tr>\n",
       "    <tr>\n",
       "      <th>2009</th>\n",
       "      <td>21913240.0</td>\n",
       "    </tr>\n",
       "    <tr>\n",
       "      <th>2010</th>\n",
       "      <td>23155497.0</td>\n",
       "    </tr>\n",
       "    <tr>\n",
       "      <th>2011</th>\n",
       "      <td>23766408.0</td>\n",
       "    </tr>\n",
       "    <tr>\n",
       "      <th>2012</th>\n",
       "      <td>23767003.0</td>\n",
       "    </tr>\n",
       "    <tr>\n",
       "      <th>2013</th>\n",
       "      <td>23436250.0</td>\n",
       "    </tr>\n",
       "    <tr>\n",
       "      <th>2014</th>\n",
       "      <td>23508832.0</td>\n",
       "    </tr>\n",
       "    <tr>\n",
       "      <th>2015</th>\n",
       "      <td>23315905.0</td>\n",
       "    </tr>\n",
       "    <tr>\n",
       "      <th>2016</th>\n",
       "      <td>23149016.0</td>\n",
       "    </tr>\n",
       "    <tr>\n",
       "      <th>2017</th>\n",
       "      <td>22916483.0</td>\n",
       "    </tr>\n",
       "  </tbody>\n",
       "</table>\n",
       "</div>"
      ],
      "text/plain": [
       "      EF2001D1.Grand total\n",
       "year                      \n",
       "2001            17965501.0\n",
       "2002            18774604.0\n",
       "2003            19385482.0\n",
       "2004            19493543.0\n",
       "2005            19792638.0\n",
       "2006            19957444.0\n",
       "2007            20240347.0\n",
       "2008            20714313.0\n",
       "2009            21913240.0\n",
       "2010            23155497.0\n",
       "2011            23766408.0\n",
       "2012            23767003.0\n",
       "2013            23436250.0\n",
       "2014            23508832.0\n",
       "2015            23315905.0\n",
       "2016            23149016.0\n",
       "2017            22916483.0"
      ]
     },
     "execution_count": 34,
     "metadata": {},
     "output_type": "execute_result"
    }
   ],
   "source": [
    "#Loop through years and add EF2001D1.Grand total if years match?\n",
    "\n",
    "\n",
    "enrollmentByYear = enrollment_df.groupby(\"year\")\n",
    "enrollmentByYear = enrollmentByYear.agg(sum)\n",
    "enrollmentByYear"
   ]
  },
  {
   "cell_type": "code",
   "execution_count": 35,
   "metadata": {},
   "outputs": [
    {
     "data": {
      "image/png": "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\n",
      "text/plain": [
       "<Figure size 432x288 with 1 Axes>"
      ]
     },
     "metadata": {},
     "output_type": "display_data"
    },
    {
     "data": {
      "text/plain": [
       "<Figure size 432x288 with 0 Axes>"
      ]
     },
     "metadata": {},
     "output_type": "display_data"
    }
   ],
   "source": [
    "# Create a bar chart based off of the group series from before\n",
    "enrollmentByYearBar = enrollmentByYear.plot(kind='bar')\n",
    "\n",
    "# Set the xlabel and ylabel using class methods\n",
    "enrollmentByYearBar.set_xlabel(\"Year\")\n",
    "enrollmentByYearBar.set_ylabel(\"Enrollment\")\n",
    "\n",
    "\n",
    "plt.show()\n",
    "plt.tight_layout()"
   ]
  },
  {
   "cell_type": "code",
<<<<<<< HEAD
   "execution_count": 14,
   "metadata": {
    "scrolled": true
   },
   "outputs": [
    {
     "data": {
      "image/png": "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\n",
=======
   "execution_count": 38,
   "metadata": {},
   "outputs": [
    {
     "data": {
      "image/png": "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\n",
>>>>>>> 359deef7db643c285908aa8668065b1c26a50187
      "text/plain": [
       "<Figure size 432x288 with 1 Axes>"
      ]
     },
     "metadata": {},
     "output_type": "display_data"
    }
   ],
   "source": [
    "enrollmentByYearLine = enrollmentByYear.plot.line(style='.-', marker ='o', color='blue')\n",
    "enrollmentByYearLine.set_ylim(ymin=15000000, ymax=30000000)\n",

    "enrollmentByYearLine.set_xlim(xmin=2000, xmax=2018)\n",
    "plt.title(\"IPEDS Enrollment 2001-2017\")\n",
    "plt.xlabel(\"Year\")\n",
    "plt.ylabel(\"Number of Students Enrolled (M)\")\n",
    "plt.grid()"
   ]
  },
  {
   "cell_type": "code",
   "execution_count": 17,
   "metadata": {},
   "outputs": [
    {
     "data": {
      "text/html": [
       "<div>\n",
       "<style scoped>\n",
       "    .dataframe tbody tr th:only-of-type {\n",
       "        vertical-align: middle;\n",
       "    }\n",
       "\n",
       "    .dataframe tbody tr th {\n",
       "        vertical-align: top;\n",
       "    }\n",
       "\n",
       "    .dataframe thead th {\n",
       "        text-align: right;\n",
       "    }\n",
       "</style>\n",
       "<table border=\"1\" class=\"dataframe\">\n",
       "  <thead>\n",
       "    <tr style=\"text-align: right;\">\n",
       "      <th></th>\n",
       "      <th>EF2001D1.Grand total</th>\n",
       "      <th>Enrollment Annual Rate of Change</th>\n",
       "    </tr>\n",
       "    <tr>\n",
       "      <th>year</th>\n",
       "      <th></th>\n",
       "      <th></th>\n",
       "    </tr>\n",
       "  </thead>\n",
       "  <tbody>\n",
       "    <tr>\n",
       "      <th>2001</th>\n",
       "      <td>17965501.0</td>\n",
       "      <td>0.000000</td>\n",
       "    </tr>\n",
       "    <tr>\n",
       "      <th>2002</th>\n",
       "      <td>18774604.0</td>\n",
       "      <td>4.503648</td>\n",
       "    </tr>\n",
       "    <tr>\n",
       "      <th>2003</th>\n",
       "      <td>19385482.0</td>\n",
       "      <td>3.253746</td>\n",
       "    </tr>\n",
       "    <tr>\n",
       "      <th>2004</th>\n",
       "      <td>19493543.0</td>\n",
       "      <td>0.557433</td>\n",
       "    </tr>\n",
       "    <tr>\n",
       "      <th>2005</th>\n",
       "      <td>19792638.0</td>\n",
       "      <td>1.534329</td>\n",
       "    </tr>\n",
       "    <tr>\n",
       "      <th>2006</th>\n",
       "      <td>19957444.0</td>\n",
       "      <td>0.832663</td>\n",
       "    </tr>\n",
       "    <tr>\n",
       "      <th>2007</th>\n",
       "      <td>20240347.0</td>\n",
       "      <td>1.417531</td>\n",
       "    </tr>\n",
       "    <tr>\n",
       "      <th>2008</th>\n",
       "      <td>20714313.0</td>\n",
       "      <td>2.341689</td>\n",
       "    </tr>\n",
       "    <tr>\n",
       "      <th>2009</th>\n",
       "      <td>21913240.0</td>\n",
       "      <td>5.787916</td>\n",
       "    </tr>\n",
       "    <tr>\n",
       "      <th>2010</th>\n",
       "      <td>23155497.0</td>\n",
       "      <td>5.668979</td>\n",
       "    </tr>\n",
       "    <tr>\n",
       "      <th>2011</th>\n",
       "      <td>23766408.0</td>\n",
       "      <td>2.638298</td>\n",
       "    </tr>\n",
       "    <tr>\n",
       "      <th>2012</th>\n",
       "      <td>23767003.0</td>\n",
       "      <td>0.002504</td>\n",
       "    </tr>\n",
       "    <tr>\n",
       "      <th>2013</th>\n",
       "      <td>23436250.0</td>\n",
       "      <td>-1.391648</td>\n",
       "    </tr>\n",
       "    <tr>\n",
       "      <th>2014</th>\n",
       "      <td>23508832.0</td>\n",
       "      <td>0.309700</td>\n",
       "    </tr>\n",
       "    <tr>\n",
       "      <th>2015</th>\n",
       "      <td>23315905.0</td>\n",
       "      <td>-0.820658</td>\n",
       "    </tr>\n",
       "    <tr>\n",
       "      <th>2016</th>\n",
       "      <td>23149016.0</td>\n",
       "      <td>-0.715773</td>\n",
       "    </tr>\n",
       "    <tr>\n",
       "      <th>2017</th>\n",
       "      <td>22916483.0</td>\n",
       "      <td>-1.004505</td>\n",
       "    </tr>\n",
       "  </tbody>\n",
       "</table>\n",
       "</div>"
      ],
      "text/plain": [
       "      EF2001D1.Grand total  Enrollment Annual Rate of Change\n",
       "year                                                        \n",
       "2001            17965501.0                          0.000000\n",
       "2002            18774604.0                          4.503648\n",
       "2003            19385482.0                          3.253746\n",
       "2004            19493543.0                          0.557433\n",
       "2005            19792638.0                          1.534329\n",
       "2006            19957444.0                          0.832663\n",
       "2007            20240347.0                          1.417531\n",
       "2008            20714313.0                          2.341689\n",
       "2009            21913240.0                          5.787916\n",
       "2010            23155497.0                          5.668979\n",
       "2011            23766408.0                          2.638298\n",
       "2012            23767003.0                          0.002504\n",
       "2013            23436250.0                         -1.391648\n",
       "2014            23508832.0                          0.309700\n",
       "2015            23315905.0                         -0.820658\n",
       "2016            23149016.0                         -0.715773\n",
       "2017            22916483.0                         -1.004505"
      ]
     },
     "execution_count": 17,
     "metadata": {},
     "output_type": "execute_result"
    }
   ],
   "source": [
    "#Rate of change\n",
    "#creating list for data series to calc annual change\n",
    "enrollmentRate=enrollmentByYear[\"EF2001D1.Grand total\"]\n",
    "enrollmentRate\n",
    "\n",
    "# create list to append annual rates of change to\n",
    "enrollmentRateOfChange = []\n",
    "#calculate annual rates of change, append to empty change list created above, and create a new column for the annual change rate data\n",
    "start_rate=17965501\n",
    "#the above needs to be the first value in your list (index location 0)\n",
    "\n",
    "for rate in enrollmentRate:\n",
    "    try:\n",
    "        change=((rate/start_rate)-1)*100\n",
    "        enrollmentRateOfChange.append(change)\n",
    "        start_rate=rate\n",
    "    except:\n",
    "        print(\"Error happened\")\n",
    "\n",
    "enrollmentByYear[\"Enrollment Annual Rate of Change\"]=enrollmentRateOfChange\n",
    "\n",
    "enrollmentByYear\n"
   ]
  },
  {
   "cell_type": "code",
   "execution_count": 16,
   "metadata": {},
   "outputs": [
    {
     "data": {
      "image/png": "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\n",
      "text/plain": [
       "<Figure size 432x288 with 1 Axes>"
      ]
     },
     "metadata": {},
     "output_type": "display_data"
    }
   ],
   "source": [
    "xe=enrollmentByYear.index\n",
    "ye=enrollmentByYear[\"Enrollment Annual Rate of Change\"]\n",
    "plt.plot(xe,ye)\n",
    "plt.plot(x_compat=True)\n",
    "plt.title(\"IPEDS Enrollment Change Over Year 2001-2017\")\n",
    "plt.xlabel(\"Year\")\n",
    "plt.ylabel(\"Enrollment Change Over Year (%)\")\n",
    "plt.grid()"
   ]
  },
  {
   "cell_type": "code",
   "execution_count": null,
   "metadata": {},
   "outputs": [],
   "source": []
  }
 ],
 "metadata": {
  "kernelspec": {
   "display_name": "Python 3",
   "language": "python",
   "name": "python3"
  },
  "language_info": {
   "codemirror_mode": {
    "name": "ipython",
    "version": 3
   },
   "file_extension": ".py",
   "mimetype": "text/x-python",
   "name": "python",
   "nbconvert_exporter": "python",
   "pygments_lexer": "ipython3",
   "version": "3.6.5"
  }
 },
 "nbformat": 4,
 "nbformat_minor": 2
}
