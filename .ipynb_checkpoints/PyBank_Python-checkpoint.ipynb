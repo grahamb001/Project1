{
 "cells": [
  {
   "cell_type": "code",
   "execution_count": null,
   "metadata": {},
   "outputs": [],
   "source": [
    "import os\n",
    "import csv\n",
    "\n",
    "budget_data = os.path.join(\"..\", \"Practice\", \"budget_data.csv\")\n",
    "\n",
    "\n",
    "total_months = 0\n",
    "total_revenue = 0\n",
    "prev_revenue = 0\n",
    "revenue_change_list = []\n",
    "greatest_increase = [\"\", 0]\n",
    "greatest_decrease = [\"\", 99999999]\n",
    "\n",
    "with open(budget_data) as revenue_data:\n",
    "    reader = csv.DictReader(revenue_data)\n",
    "\n",
    "    for row in reader:\n",
    "        total_months = total_months + 1\n",
    "        total_revenue = total_revenue + int(row[\"Revenue\"])\n",
    "        revenue_change = int(row[\"Revenue\"]) - int(prev_revenue)\n",
    "        revenue_change_list = revenue_change_list + [revenue_change]\n",
    "\n",
    "        # prepare prev_revenue for next iteration\n",
    "        prev_revenue = row[\"Revenue\"]\n",
    "\n",
    "        # calculate greatest increase\n",
    "        if (revenue_change > greatest_increase[1]):\n",
    "            greatest_increase[0] = row[\"Date\"]\n",
    "            greatest_increase[1] = revenue_change\n",
    "\n",
    "         # calculate greatest decrease\n",
    "        if (revenue_change < greatest_increase[1]):\n",
    "            greatest_decrease[0] = row[\"Date\"]\n",
    "            greatest_decrease[1] = revenue_change\n",
    "\n",
    "revenue_avg = sum(revenue_change_list) / len(revenue_change_list)\n",
    "output = (\n",
    "    f\"Total Months: {total_months}\\n\"\n",
    "    f\"Total: {total_revenue}\\n\"\n",
    "    f\"Average Change: {revenue_change}\\n\"\n",
    "    f\"Greatest Increase in Profits: {greatest_increase}\\n\"\n",
    "    f\"Greatest Decrease in Profits: {greatest_decrease}\\n\"\n",
    ")\n",
    "\n",
    "print(output)\n",
    "\n",
    "with open(budget_data, \"w\") as txt_file:\n",
    "    txt_file.write(output)  "
   ]
  }
 ],
 "metadata": {
  "kernelspec": {
   "display_name": "Python 3",
   "language": "python",
   "name": "python3"
  },
  "language_info": {
   "codemirror_mode": {
    "name": "ipython",
    "version": 3
   },
   "file_extension": ".py",
   "mimetype": "text/x-python",
   "name": "python",
   "nbconvert_exporter": "python",
   "pygments_lexer": "ipython3",
   "version": "3.6.5"
  }
 },
 "nbformat": 4,
 "nbformat_minor": 2
}
