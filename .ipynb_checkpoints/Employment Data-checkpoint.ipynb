{
 "cells": [
  {
   "cell_type": "code",
   "execution_count": 20,
   "metadata": {},
   "outputs": [],
   "source": [
    "# Import Dependencies\n",
    "import pandas as pd\n",
    "import matplotlib.pyplot as plt\n",
    "import matplotlib.dates as mdates\n",
    "\n",
    "# Create a reference the CSV file desired\n",
    "employment_csv = \"Employment Data/Employment Summary Data - Annual Averages.csv\"\n",
    "\n",
    "# Read the CSV into a Pandas DataFrame\n",
    "employment_df = pd.read_csv(employment_csv)\n",
    "\n",
    "# Print the first five rows of data to the screen\n",
    "employment_df.head()\n",
    "\n",
    "employment_df.dtypes\n",
    "\n",
    "#time series line plots for unemployment rate\n",
    "xu=employment_df[\"Year\"]\n",
    "yu=employment_df[\"Unemployment Rate\"]\n",
    "plt.plot(xu,yu)\n",
    "plt.plot(x_compat=True)\n",
    "plt.title(\"Average Annual Unemployment (2000-2017)\")\n",
    "plt.xlabel(\"Year\")\n",
    "plt.ylabel(\"Unemployment Rate (%)\")\n",
    "plt.xlim([2000, 2018])\n",
    "\n",
    "#time series line plots for labor force participation\n",
    "xp=employment_df[\"Year\"]\n",
    "yp=employment_df[\"Labor Force Participation\"]\n",
    "plt.plot(xp,yp)\n",
    "plt.title(\"Average Annual Labor Force Participation (2000-2017)\")\n",
    "plt.xlabel(\"Year\")\n",
    "plt.ylabel(\"Labor Force Participation Rate (%)\")\n",
    "plt.xlim([2000, 2018])\n",
    "\n",
    "#time series line plots for initial jobless claims\n",
    "xc=employment_df[\"Year\"]\n",
    "yc=employment_df[\"Initial Jobless Claims\"]\n",
    "plt.plot(xc,yc)\n",
    "plt.title(\"Average Annual Initial Jobless Claims (2000-2017)\")\n",
    "plt.xlabel(\"Year\")\n",
    "plt.ylabel(\"Jobless Claims (monthly)\")\n",
    "plt.xlim([2000, 2018])\n",
    "\n",
    "employment_df.head()"
   ]
  },
  {
   "cell_type": "code",
   "execution_count": null,
   "metadata": {},
   "outputs": [],
   "source": []
  }
 ],
 "metadata": {
  "kernelspec": {
   "display_name": "Python 3",
   "language": "python",
   "name": "python3"
  },
  "language_info": {
   "codemirror_mode": {
    "name": "ipython",
    "version": 3
   },
   "file_extension": ".py",
   "mimetype": "text/x-python",
   "name": "python",
   "nbconvert_exporter": "python",
   "pygments_lexer": "ipython3",
   "version": "3.6.5"
  }
 },
 "nbformat": 4,
 "nbformat_minor": 2
}
