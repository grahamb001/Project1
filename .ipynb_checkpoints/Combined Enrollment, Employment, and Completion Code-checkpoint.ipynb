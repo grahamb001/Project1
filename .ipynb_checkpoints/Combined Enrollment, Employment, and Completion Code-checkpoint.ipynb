{
 "cells": [
  {
   "cell_type": "code",
   "execution_count": 1,
   "metadata": {},
   "outputs": [
    {
     "name": "stdout",
     "output_type": "stream",
     "text": [
      "Populating the interactive namespace from numpy and matplotlib\n"
     ]
    }
   ],
   "source": [
    "# Import Dependencies\n",
    "%pylab inline\n",
    "import pandas as pd\n",
    "import matplotlib.pyplot as plt\n",
    "import numpy as np\n",
    "import matplotlib.dates as mdates"
   ]
  },
  {
   "cell_type": "markdown",
   "metadata": {},
   "source": [
    "# Education"
   ]
  },
  {
   "cell_type": "code",
   "execution_count": 2,
   "metadata": {},
   "outputs": [
    {
     "data": {
      "text/html": [
       "<div>\n",
       "<style scoped>\n",
       "    .dataframe tbody tr th:only-of-type {\n",
       "        vertical-align: middle;\n",
       "    }\n",
       "\n",
       "    .dataframe tbody tr th {\n",
       "        vertical-align: top;\n",
       "    }\n",
       "\n",
       "    .dataframe thead th {\n",
       "        text-align: right;\n",
       "    }\n",
       "</style>\n",
       "<table border=\"1\" class=\"dataframe\">\n",
       "  <thead>\n",
       "    <tr style=\"text-align: right;\">\n",
       "      <th></th>\n",
       "      <th>unitid</th>\n",
       "      <th>institution name</th>\n",
       "      <th>year</th>\n",
       "      <th>EF2001D1.Type of student counted</th>\n",
       "      <th>EF2001D1.Grand total</th>\n",
       "      <th>IDX_EF</th>\n",
       "    </tr>\n",
       "  </thead>\n",
       "  <tbody>\n",
       "    <tr>\n",
       "      <th>0</th>\n",
       "      <td>100654</td>\n",
       "      <td>Alabama A &amp; M University</td>\n",
       "      <td>2001.0</td>\n",
       "      <td>Undergraduate</td>\n",
       "      <td>4693.0</td>\n",
       "      <td>-2.0</td>\n",
       "    </tr>\n",
       "    <tr>\n",
       "      <th>1</th>\n",
       "      <td>100663</td>\n",
       "      <td>University of Alabama at Birmingham</td>\n",
       "      <td>2001.0</td>\n",
       "      <td>Undergraduate</td>\n",
       "      <td>12910.0</td>\n",
       "      <td>-2.0</td>\n",
       "    </tr>\n",
       "    <tr>\n",
       "      <th>2</th>\n",
       "      <td>100706</td>\n",
       "      <td>University of Alabama in Huntsville</td>\n",
       "      <td>2001.0</td>\n",
       "      <td>Undergraduate</td>\n",
       "      <td>6529.0</td>\n",
       "      <td>-2.0</td>\n",
       "    </tr>\n",
       "    <tr>\n",
       "      <th>3</th>\n",
       "      <td>100724</td>\n",
       "      <td>Alabama State University</td>\n",
       "      <td>2001.0</td>\n",
       "      <td>Undergraduate</td>\n",
       "      <td>5228.0</td>\n",
       "      <td>-2.0</td>\n",
       "    </tr>\n",
       "    <tr>\n",
       "      <th>4</th>\n",
       "      <td>100751</td>\n",
       "      <td>The University of Alabama</td>\n",
       "      <td>2001.0</td>\n",
       "      <td>Undergraduate</td>\n",
       "      <td>16983.0</td>\n",
       "      <td>-2.0</td>\n",
       "    </tr>\n",
       "  </tbody>\n",
       "</table>\n",
       "</div>"
      ],
      "text/plain": [
       "   unitid                     institution name    year  \\\n",
       "0  100654             Alabama A & M University  2001.0   \n",
       "1  100663  University of Alabama at Birmingham  2001.0   \n",
       "2  100706  University of Alabama in Huntsville  2001.0   \n",
       "3  100724             Alabama State University  2001.0   \n",
       "4  100751            The University of Alabama  2001.0   \n",
       "\n",
       "  EF2001D1.Type of student counted  EF2001D1.Grand total  IDX_EF  \n",
       "0                    Undergraduate                4693.0    -2.0  \n",
       "1                    Undergraduate               12910.0    -2.0  \n",
       "2                    Undergraduate                6529.0    -2.0  \n",
       "3                    Undergraduate                5228.0    -2.0  \n",
       "4                    Undergraduate               16983.0    -2.0  "
      ]
     },
     "execution_count": 2,
     "metadata": {},
     "output_type": "execute_result"
    }
   ],
   "source": [
    "# Create a reference the CSV file desired\n",
    "enrollment_csv = \"Enrollment -- 12-Month Enrollment Rates 2001-17/Comprehensive 12-Month Enrollment Rates 2001-17.csv\"\n",
    "\n",
    "# Read the CSV into a Pandas DataFrame\n",
    "enrollment_df = pd.read_csv(enrollment_csv)\n",
    "\n",
    "# Print the first five rows of data to the screen\n",
    "enrollment_df.head()"
   ]
  },
  {
   "cell_type": "code",
   "execution_count": 3,
   "metadata": {},
   "outputs": [
    {
     "name": "stdout",
     "output_type": "stream",
     "text": [
      "90267\n"
     ]
    }
   ],
   "source": [
    "# How many institutions are we starting with?\n",
    "totalInstitutions = len(enrollment_df)\n",
    "print(totalInstitutions)"
   ]
  },
  {
   "cell_type": "code",
   "execution_count": 4,
   "metadata": {},
   "outputs": [
    {
     "data": {
      "text/html": [
       "<div>\n",
       "<style scoped>\n",
       "    .dataframe tbody tr th:only-of-type {\n",
       "        vertical-align: middle;\n",
       "    }\n",
       "\n",
       "    .dataframe tbody tr th {\n",
       "        vertical-align: top;\n",
       "    }\n",
       "\n",
       "    .dataframe thead th {\n",
       "        text-align: right;\n",
       "    }\n",
       "</style>\n",
       "<table border=\"1\" class=\"dataframe\">\n",
       "  <thead>\n",
       "    <tr style=\"text-align: right;\">\n",
       "      <th></th>\n",
       "      <th>unitid</th>\n",
       "      <th>institution name</th>\n",
       "      <th>year</th>\n",
       "      <th>EF2001D1.Type of student counted</th>\n",
       "      <th>EF2001D1.Grand total</th>\n",
       "    </tr>\n",
       "  </thead>\n",
       "  <tbody>\n",
       "    <tr>\n",
       "      <th>0</th>\n",
       "      <td>100654</td>\n",
       "      <td>Alabama A &amp; M University</td>\n",
       "      <td>2001.0</td>\n",
       "      <td>Undergraduate</td>\n",
       "      <td>4693.0</td>\n",
       "    </tr>\n",
       "    <tr>\n",
       "      <th>1</th>\n",
       "      <td>100663</td>\n",
       "      <td>University of Alabama at Birmingham</td>\n",
       "      <td>2001.0</td>\n",
       "      <td>Undergraduate</td>\n",
       "      <td>12910.0</td>\n",
       "    </tr>\n",
       "    <tr>\n",
       "      <th>2</th>\n",
       "      <td>100706</td>\n",
       "      <td>University of Alabama in Huntsville</td>\n",
       "      <td>2001.0</td>\n",
       "      <td>Undergraduate</td>\n",
       "      <td>6529.0</td>\n",
       "    </tr>\n",
       "    <tr>\n",
       "      <th>3</th>\n",
       "      <td>100724</td>\n",
       "      <td>Alabama State University</td>\n",
       "      <td>2001.0</td>\n",
       "      <td>Undergraduate</td>\n",
       "      <td>5228.0</td>\n",
       "    </tr>\n",
       "    <tr>\n",
       "      <th>4</th>\n",
       "      <td>100751</td>\n",
       "      <td>The University of Alabama</td>\n",
       "      <td>2001.0</td>\n",
       "      <td>Undergraduate</td>\n",
       "      <td>16983.0</td>\n",
       "    </tr>\n",
       "  </tbody>\n",
       "</table>\n",
       "</div>"
      ],
      "text/plain": [
       "   unitid                     institution name    year  \\\n",
       "0  100654             Alabama A & M University  2001.0   \n",
       "1  100663  University of Alabama at Birmingham  2001.0   \n",
       "2  100706  University of Alabama in Huntsville  2001.0   \n",
       "3  100724             Alabama State University  2001.0   \n",
       "4  100751            The University of Alabama  2001.0   \n",
       "\n",
       "  EF2001D1.Type of student counted  EF2001D1.Grand total  \n",
       "0                    Undergraduate                4693.0  \n",
       "1                    Undergraduate               12910.0  \n",
       "2                    Undergraduate                6529.0  \n",
       "3                    Undergraduate                5228.0  \n",
       "4                    Undergraduate               16983.0  "
      ]
     },
     "execution_count": 4,
     "metadata": {},
     "output_type": "execute_result"
    }
   ],
   "source": [
    "# Delete columns that we're not interested in (The variable IDX_EF contains the UNITID of the parent institution.)\n",
    "enrollment_df = enrollment_df.drop([\"IDX_EF\"], axis=1)\n",
    "enrollment_df.head()"
   ]
  },
  {
   "cell_type": "code",
   "execution_count": 5,
   "metadata": {},
   "outputs": [
    {
     "name": "stdout",
     "output_type": "stream",
     "text": [
      "90250\n"
     ]
    }
   ],
   "source": [
    "# Remove the rows with missing data\n",
    "enrollment_df = enrollment_df.dropna(how=\"any\")\n",
    "institutionsMinusBlanks = len(enrollment_df)\n",
    "print(institutionsMinusBlanks)"
   ]
  },
  {
   "cell_type": "code",
   "execution_count": 6,
   "metadata": {},
   "outputs": [
    {
     "name": "stdout",
     "output_type": "stream",
     "text": [
      "17\n"
     ]
    }
   ],
   "source": [
    "# How many institutions had data that wasn't incuded?\n",
    "instutionsWithoutData = (totalInstitutions - institutionsMinusBlanks)\n",
    "print(instutionsWithoutData)"
   ]
  },
  {
   "cell_type": "code",
   "execution_count": 7,
   "metadata": {},
   "outputs": [
    {
     "data": {
      "text/html": [
       "<div>\n",
       "<style scoped>\n",
       "    .dataframe tbody tr th:only-of-type {\n",
       "        vertical-align: middle;\n",
       "    }\n",
       "\n",
       "    .dataframe tbody tr th {\n",
       "        vertical-align: top;\n",
       "    }\n",
       "\n",
       "    .dataframe thead th {\n",
       "        text-align: right;\n",
       "    }\n",
       "</style>\n",
       "<table border=\"1\" class=\"dataframe\">\n",
       "  <thead>\n",
       "    <tr style=\"text-align: right;\">\n",
       "      <th></th>\n",
       "      <th>unitid</th>\n",
       "      <th>institution name</th>\n",
       "      <th>year</th>\n",
       "      <th>EF2001D1.Type of student counted</th>\n",
       "      <th>EF2001D1.Grand total</th>\n",
       "    </tr>\n",
       "  </thead>\n",
       "  <tbody>\n",
       "    <tr>\n",
       "      <th>0</th>\n",
       "      <td>100654</td>\n",
       "      <td>Alabama A &amp; M University</td>\n",
       "      <td>2001</td>\n",
       "      <td>Undergraduate</td>\n",
       "      <td>4693.0</td>\n",
       "    </tr>\n",
       "    <tr>\n",
       "      <th>1</th>\n",
       "      <td>100663</td>\n",
       "      <td>University of Alabama at Birmingham</td>\n",
       "      <td>2001</td>\n",
       "      <td>Undergraduate</td>\n",
       "      <td>12910.0</td>\n",
       "    </tr>\n",
       "    <tr>\n",
       "      <th>2</th>\n",
       "      <td>100706</td>\n",
       "      <td>University of Alabama in Huntsville</td>\n",
       "      <td>2001</td>\n",
       "      <td>Undergraduate</td>\n",
       "      <td>6529.0</td>\n",
       "    </tr>\n",
       "    <tr>\n",
       "      <th>3</th>\n",
       "      <td>100724</td>\n",
       "      <td>Alabama State University</td>\n",
       "      <td>2001</td>\n",
       "      <td>Undergraduate</td>\n",
       "      <td>5228.0</td>\n",
       "    </tr>\n",
       "    <tr>\n",
       "      <th>4</th>\n",
       "      <td>100751</td>\n",
       "      <td>The University of Alabama</td>\n",
       "      <td>2001</td>\n",
       "      <td>Undergraduate</td>\n",
       "      <td>16983.0</td>\n",
       "    </tr>\n",
       "  </tbody>\n",
       "</table>\n",
       "</div>"
      ],
      "text/plain": [
       "   unitid                     institution name  year  \\\n",
       "0  100654             Alabama A & M University  2001   \n",
       "1  100663  University of Alabama at Birmingham  2001   \n",
       "2  100706  University of Alabama in Huntsville  2001   \n",
       "3  100724             Alabama State University  2001   \n",
       "4  100751            The University of Alabama  2001   \n",
       "\n",
       "  EF2001D1.Type of student counted  EF2001D1.Grand total  \n",
       "0                    Undergraduate                4693.0  \n",
       "1                    Undergraduate               12910.0  \n",
       "2                    Undergraduate                6529.0  \n",
       "3                    Undergraduate                5228.0  \n",
       "4                    Undergraduate               16983.0  "
      ]
     },
     "execution_count": 7,
     "metadata": {},
     "output_type": "execute_result"
    }
   ],
   "source": [
    "#As type to change the years type to get rid of those pesky .0 and replace the current year column with this new clean one\n",
    "enrollment_df[\"year\"]=enrollment_df[\"year\"].astype(int)\n",
    "enrollment_df.head()"
   ]
  },
  {
   "cell_type": "code",
   "execution_count": 8,
   "metadata": {},
   "outputs": [
    {
     "name": "stdout",
     "output_type": "stream",
     "text": [
      "2001    4253\n",
      "2002    4522\n",
      "2003    4604\n",
      "2004    4682\n",
      "2005    4762\n",
      "2006    4841\n",
      "2007    4910\n",
      "2008    5025\n",
      "2009    5176\n",
      "2010    5409\n",
      "2011    5607\n",
      "2012    5751\n",
      "2013    5891\n",
      "2014    6038\n",
      "2015    6174\n",
      "2016    6275\n",
      "2017    6330\n",
      "Name: year, dtype: int64\n"
     ]
    }
   ],
   "source": [
    "# Count how many Institution entries do we have per year\n",
    "InstitutionYearCounts = enrollment_df[\"year\"].value_counts()\n",
    "InstitutionYearCounts = InstitutionYearCounts.sort_values(axis=0, ascending=True)\n",
    "print(InstitutionYearCounts)"
   ]
  },
  {
   "cell_type": "code",
   "execution_count": 9,
   "metadata": {},
   "outputs": [
    {
     "data": {
      "image/png": "[encoded data removed]",
      "text/plain": [
       "<Figure size 432x288 with 1 Axes>"
      ]
     },
     "metadata": {},
     "output_type": "display_data"
    },
    {
     "data": {
      "text/plain": [
       "<Figure size 432x288 with 0 Axes>"
      ]
     },
     "metadata": {},
     "output_type": "display_data"
    }
   ],
   "source": [
    "# Create a bar chart based off of the group series from before\n",
    "institutionCountBar = InstitutionYearCounts.plot(kind='bar')\n",
    "\n",
    "# Set the xlabel and ylabel using class methods\n",
    "institutionCountBar.set_xlabel(\"Year\")\n",
    "institutionCountBar.set_ylabel(\"Number of Institutions\")\n",
    "\n",
    "\n",
    "plt.show()\n",
    "plt.tight_layout()"
   ]
  },
  {
   "cell_type": "code",
   "execution_count": 10,
   "metadata": {},
   "outputs": [
    {
     "data": {
      "image/png": "[encoded data removed]",
      "text/plain": [
       "<Figure size 432x288 with 1 Axes>"
      ]
     },
     "metadata": {},
     "output_type": "display_data"
    }
   ],
   "source": [
    "institutionCountLine = InstitutionYearCounts.plot.line(style='.-', x='index', marker ='o', color='blue')\n",
    "institutionCountLine.set_ylim(ymin=3000, ymax=7000)\n",
    "institutionCountLine.set_xlim(xmin=2000, xmax=2018)\n",
    "plt.title(\"IPEDS Institution Count 2001-2017\")\n",
    "plt.xlabel(\"Year\")\n",
    "plt.ylabel(\"Number of Institutions\")\n",
    "plt.grid()"
   ]
  },
  {
   "cell_type": "code",
   "execution_count": 11,
   "metadata": {},
   "outputs": [
    {
     "data": {
      "text/plain": [
       "365252506.0"
      ]
     },
     "execution_count": 11,
     "metadata": {},
     "output_type": "execute_result"
    }
   ],
   "source": [
    "#Total enrollment numbers between 2001 and 2017 = sum EF2001D1.Grand total per year\n",
    "pd.to_numeric(enrollment_df['EF2001D1.Grand total'])\n",
    "enrollment_df.dtypes\n",
    "totalEnrollment = enrollment_df[\"EF2001D1.Grand total\"].sum()\n",
    "totalEnrollment"
   ]
  },
  {
   "cell_type": "code",
   "execution_count": 12,
   "metadata": {},
   "outputs": [
    {
     "data": {
      "text/html": [
       "<div>\n",
       "<style scoped>\n",
       "    .dataframe tbody tr th:only-of-type {\n",
       "        vertical-align: middle;\n",
       "    }\n",
       "\n",
       "    .dataframe tbody tr th {\n",
       "        vertical-align: top;\n",
       "    }\n",
       "\n",
       "    .dataframe thead th {\n",
       "        text-align: right;\n",
       "    }\n",
       "</style>\n",
       "<table border=\"1\" class=\"dataframe\">\n",
       "  <thead>\n",
       "    <tr style=\"text-align: right;\">\n",
       "      <th></th>\n",
       "      <th>EF2001D1.Grand total</th>\n",
       "    </tr>\n",
       "    <tr>\n",
       "      <th>year</th>\n",
       "      <th></th>\n",
       "    </tr>\n",
       "  </thead>\n",
       "  <tbody>\n",
       "    <tr>\n",
       "      <th>2001</th>\n",
       "      <td>17965501.0</td>\n",
       "    </tr>\n",
       "    <tr>\n",
       "      <th>2002</th>\n",
       "      <td>18774604.0</td>\n",
       "    </tr>\n",
       "    <tr>\n",
       "      <th>2003</th>\n",
       "      <td>19385482.0</td>\n",
       "    </tr>\n",
       "    <tr>\n",
       "      <th>2004</th>\n",
       "      <td>19493543.0</td>\n",
       "    </tr>\n",
       "    <tr>\n",
       "      <th>2005</th>\n",
       "      <td>19792638.0</td>\n",
       "    </tr>\n",
       "    <tr>\n",
       "      <th>2006</th>\n",
       "      <td>19957444.0</td>\n",
       "    </tr>\n",
       "    <tr>\n",
       "      <th>2007</th>\n",
       "      <td>20240347.0</td>\n",
       "    </tr>\n",
       "    <tr>\n",
       "      <th>2008</th>\n",
       "      <td>20714313.0</td>\n",
       "    </tr>\n",
       "    <tr>\n",
       "      <th>2009</th>\n",
       "      <td>21913240.0</td>\n",
       "    </tr>\n",
       "    <tr>\n",
       "      <th>2010</th>\n",
       "      <td>23155497.0</td>\n",
       "    </tr>\n",
       "    <tr>\n",
       "      <th>2011</th>\n",
       "      <td>23766408.0</td>\n",
       "    </tr>\n",
       "    <tr>\n",
       "      <th>2012</th>\n",
       "      <td>23767003.0</td>\n",
       "    </tr>\n",
       "    <tr>\n",
       "      <th>2013</th>\n",
       "      <td>23436250.0</td>\n",
       "    </tr>\n",
       "    <tr>\n",
       "      <th>2014</th>\n",
       "      <td>23508832.0</td>\n",
       "    </tr>\n",
       "    <tr>\n",
       "      <th>2015</th>\n",
       "      <td>23315905.0</td>\n",
       "    </tr>\n",
       "    <tr>\n",
       "      <th>2016</th>\n",
       "      <td>23149016.0</td>\n",
       "    </tr>\n",
       "    <tr>\n",
       "      <th>2017</th>\n",
       "      <td>22916483.0</td>\n",
       "    </tr>\n",
       "  </tbody>\n",
       "</table>\n",
       "</div>"
      ],
      "text/plain": [
       "      EF2001D1.Grand total\n",
       "year                      \n",
       "2001            17965501.0\n",
       "2002            18774604.0\n",
       "2003            19385482.0\n",
       "2004            19493543.0\n",
       "2005            19792638.0\n",
       "2006            19957444.0\n",
       "2007            20240347.0\n",
       "2008            20714313.0\n",
       "2009            21913240.0\n",
       "2010            23155497.0\n",
       "2011            23766408.0\n",
       "2012            23767003.0\n",
       "2013            23436250.0\n",
       "2014            23508832.0\n",
       "2015            23315905.0\n",
       "2016            23149016.0\n",
       "2017            22916483.0"
      ]
     },
     "execution_count": 12,
     "metadata": {},
     "output_type": "execute_result"
    }
   ],
   "source": [
    "#Loop through years and add EF2001D1.Grand total if years match?\n",
    "enrollmentByYear = enrollment_df.groupby(\"year\")\n",
    "enrollmentByYear = enrollmentByYear.agg(sum)\n",
    "enrollmentByYear"
   ]
  },
  {
   "cell_type": "code",
   "execution_count": 13,
   "metadata": {},
   "outputs": [
    {
     "data": {
      "image/png": "[encoded data removed]",
      "text/plain": [
       "<Figure size 432x288 with 1 Axes>"
      ]
     },
     "metadata": {},
     "output_type": "display_data"
    },
    {
     "data": {
      "text/plain": [
       "<Figure size 432x288 with 0 Axes>"
      ]
     },
     "metadata": {},
     "output_type": "display_data"
    }
   ],
   "source": [
    "# Create a bar chart based off of the group series from before\n",
    "enrollmentByYearBar = enrollmentByYear.plot(kind='bar')\n",
    "\n",
    "# Set the xlabel and ylabel using class methods\n",
    "enrollmentByYearBar.set_xlabel(\"Year\")\n",
    "enrollmentByYearBar.set_ylabel(\"Enrollment\")\n",
    "\n",
    "\n",
    "plt.show()\n",
    "plt.tight_layout()"
   ]
  },
  {
   "cell_type": "code",
   "execution_count": 14,
   "metadata": {},
   "outputs": [
    {
     "data": {
      "image/png": "[encoded data removed]",
      "text/plain": [
       "<Figure size 432x288 with 1 Axes>"
      ]
     },
     "metadata": {},
     "output_type": "display_data"
    }
   ],
   "source": [
    "enrollmentByYearLine = enrollmentByYear.plot.line(style='.-', marker ='o', color='blue')\n",
    "enrollmentByYearLine.set_ylim(ymin=15000000, ymax=30000000)\n",
    "enrollmentByYearLine.set_xlim(xmin=2000, xmax=2018)\n",
    "plt.title(\"IPEDS Enrollment 2001-2017\")\n",
    "plt.xlabel(\"Year\")\n",
    "plt.ylabel(\"Number of Students Enrolled (M)\")\n",
    "plt.grid()"
   ]
  },
  {
   "cell_type": "code",
   "execution_count": 15,
   "metadata": {},
   "outputs": [
    {
     "data": {
      "text/html": [
       "<div>\n",
       "<style scoped>\n",
       "    .dataframe tbody tr th:only-of-type {\n",
       "        vertical-align: middle;\n",
       "    }\n",
       "\n",
       "    .dataframe tbody tr th {\n",
       "        vertical-align: top;\n",
       "    }\n",
       "\n",
       "    .dataframe thead th {\n",
       "        text-align: right;\n",
       "    }\n",
       "</style>\n",
       "<table border=\"1\" class=\"dataframe\">\n",
       "  <thead>\n",
       "    <tr style=\"text-align: right;\">\n",
       "      <th></th>\n",
       "      <th>EF2001D1.Grand total</th>\n",
       "      <th>Enrollment Annual Rate of Change</th>\n",
       "    </tr>\n",
       "    <tr>\n",
       "      <th>year</th>\n",
       "      <th></th>\n",
       "      <th></th>\n",
       "    </tr>\n",
       "  </thead>\n",
       "  <tbody>\n",
       "    <tr>\n",
       "      <th>2001</th>\n",
       "      <td>17965501.0</td>\n",
       "      <td>0.000000</td>\n",
       "    </tr>\n",
       "    <tr>\n",
       "      <th>2002</th>\n",
       "      <td>18774604.0</td>\n",
       "      <td>4.503648</td>\n",
       "    </tr>\n",
       "    <tr>\n",
       "      <th>2003</th>\n",
       "      <td>19385482.0</td>\n",
       "      <td>3.253746</td>\n",
       "    </tr>\n",
       "    <tr>\n",
       "      <th>2004</th>\n",
       "      <td>19493543.0</td>\n",
       "      <td>0.557433</td>\n",
       "    </tr>\n",
       "    <tr>\n",
       "      <th>2005</th>\n",
       "      <td>19792638.0</td>\n",
       "      <td>1.534329</td>\n",
       "    </tr>\n",
       "    <tr>\n",
       "      <th>2006</th>\n",
       "      <td>19957444.0</td>\n",
       "      <td>0.832663</td>\n",
       "    </tr>\n",
       "    <tr>\n",
       "      <th>2007</th>\n",
       "      <td>20240347.0</td>\n",
       "      <td>1.417531</td>\n",
       "    </tr>\n",
       "    <tr>\n",
       "      <th>2008</th>\n",
       "      <td>20714313.0</td>\n",
       "      <td>2.341689</td>\n",
       "    </tr>\n",
       "    <tr>\n",
       "      <th>2009</th>\n",
       "      <td>21913240.0</td>\n",
       "      <td>5.787916</td>\n",
       "    </tr>\n",
       "    <tr>\n",
       "      <th>2010</th>\n",
       "      <td>23155497.0</td>\n",
       "      <td>5.668979</td>\n",
       "    </tr>\n",
       "    <tr>\n",
       "      <th>2011</th>\n",
       "      <td>23766408.0</td>\n",
       "      <td>2.638298</td>\n",
       "    </tr>\n",
       "    <tr>\n",
       "      <th>2012</th>\n",
       "      <td>23767003.0</td>\n",
       "      <td>0.002504</td>\n",
       "    </tr>\n",
       "    <tr>\n",
       "      <th>2013</th>\n",
       "      <td>23436250.0</td>\n",
       "      <td>-1.391648</td>\n",
       "    </tr>\n",
       "    <tr>\n",
       "      <th>2014</th>\n",
       "      <td>23508832.0</td>\n",
       "      <td>0.309700</td>\n",
       "    </tr>\n",
       "    <tr>\n",
       "      <th>2015</th>\n",
       "      <td>23315905.0</td>\n",
       "      <td>-0.820658</td>\n",
       "    </tr>\n",
       "    <tr>\n",
       "      <th>2016</th>\n",
       "      <td>23149016.0</td>\n",
       "      <td>-0.715773</td>\n",
       "    </tr>\n",
       "    <tr>\n",
       "      <th>2017</th>\n",
       "      <td>22916483.0</td>\n",
       "      <td>-1.004505</td>\n",
       "    </tr>\n",
       "  </tbody>\n",
       "</table>\n",
       "</div>"
      ],
      "text/plain": [
       "      EF2001D1.Grand total  Enrollment Annual Rate of Change\n",
       "year                                                        \n",
       "2001            17965501.0                          0.000000\n",
       "2002            18774604.0                          4.503648\n",
       "2003            19385482.0                          3.253746\n",
       "2004            19493543.0                          0.557433\n",
       "2005            19792638.0                          1.534329\n",
       "2006            19957444.0                          0.832663\n",
       "2007            20240347.0                          1.417531\n",
       "2008            20714313.0                          2.341689\n",
       "2009            21913240.0                          5.787916\n",
       "2010            23155497.0                          5.668979\n",
       "2011            23766408.0                          2.638298\n",
       "2012            23767003.0                          0.002504\n",
       "2013            23436250.0                         -1.391648\n",
       "2014            23508832.0                          0.309700\n",
       "2015            23315905.0                         -0.820658\n",
       "2016            23149016.0                         -0.715773\n",
       "2017            22916483.0                         -1.004505"
      ]
     },
     "execution_count": 15,
     "metadata": {},
     "output_type": "execute_result"
    }
   ],
   "source": [
    "#Rate of change\n",
    "#creating list for data series to calc annual change\n",
    "enrollmentRate=enrollmentByYear[\"EF2001D1.Grand total\"]\n",
    "enrollmentRate\n",
    "\n",
    "# create list to append annual rates of change to\n",
    "enrollmentRateOfChange = []\n",
    "#calculate annual rates of change, append to empty change list created above, and create a new column for the annual change rate data\n",
    "start_rate=17965501\n",
    "#the above needs to be the first value in your list (index location 0)\n",
    "\n",
    "for rate in enrollmentRate:\n",
    "    try:\n",
    "        change=((rate/start_rate)-1)*100\n",
    "        enrollmentRateOfChange.append(change)\n",
    "        start_rate=rate\n",
    "    except:\n",
    "        print(\"Error happened\")\n",
    "\n",
    "enrollmentByYear[\"Enrollment Annual Rate of Change\"]=enrollmentRateOfChange\n",
    "\n",
    "enrollmentByYear\n"
   ]
  },
  {
   "cell_type": "code",
   "execution_count": 16,
   "metadata": {},
   "outputs": [
    {
     "data": {
      "image/png": "[encoded data removed]",
      "text/plain": [
       "<Figure size 432x288 with 1 Axes>"
      ]
     },
     "metadata": {},
     "output_type": "display_data"
    }
   ],
   "source": [
    "xenrol=enrollmentByYear.index\n",
    "yenrol=enrollmentByYear[\"Enrollment Annual Rate of Change\"]\n",
    "plt.plot(xenrol,yenrol)\n",
    "plt.plot(x_compat=True)\n",
    "plt.title(\"IPEDS Enrollment Change Over Year 2001-2017\")\n",
    "plt.xlabel(\"Year\")\n",
    "plt.ylabel(\"Enrollment Change Over Year (%)\")\n",
    "plt.grid()"
   ]
  },
  {
   "cell_type": "code",
   "execution_count": 17,
   "metadata": {},
   "outputs": [
    {
     "data": {
      "text/plain": [
       "2001    4253\n",
       "2002    4522\n",
       "2003    4604\n",
       "2004    4682\n",
       "2005    4762\n",
       "2006    4841\n",
       "2007    4910\n",
       "2008    5025\n",
       "2009    5176\n",
       "2010    5409\n",
       "2011    5607\n",
       "2012    5751\n",
       "2013    5891\n",
       "2014    6038\n",
       "2015    6174\n",
       "2016    6275\n",
       "2017    6330\n",
       "Name: year, dtype: int64"
      ]
     },
     "execution_count": 17,
     "metadata": {},
     "output_type": "execute_result"
    }
   ],
   "source": [
    "InstitutionYearCounts"
   ]
  },
  {
   "cell_type": "code",
   "execution_count": 18,
   "metadata": {},
   "outputs": [
    {
     "data": {
      "text/html": [
       "<div>\n",
       "<style scoped>\n",
       "    .dataframe tbody tr th:only-of-type {\n",
       "        vertical-align: middle;\n",
       "    }\n",
       "\n",
       "    .dataframe tbody tr th {\n",
       "        vertical-align: top;\n",
       "    }\n",
       "\n",
       "    .dataframe thead th {\n",
       "        text-align: right;\n",
       "    }\n",
       "</style>\n",
       "<table border=\"1\" class=\"dataframe\">\n",
       "  <thead>\n",
       "    <tr style=\"text-align: right;\">\n",
       "      <th></th>\n",
       "      <th>year</th>\n",
       "      <th>list</th>\n",
       "    </tr>\n",
       "  </thead>\n",
       "  <tbody>\n",
       "    <tr>\n",
       "      <th>0</th>\n",
       "      <td>2001</td>\n",
       "      <td>4253</td>\n",
       "    </tr>\n",
       "    <tr>\n",
       "      <th>1</th>\n",
       "      <td>2002</td>\n",
       "      <td>4522</td>\n",
       "    </tr>\n",
       "    <tr>\n",
       "      <th>2</th>\n",
       "      <td>2003</td>\n",
       "      <td>4604</td>\n",
       "    </tr>\n",
       "    <tr>\n",
       "      <th>3</th>\n",
       "      <td>2004</td>\n",
       "      <td>4682</td>\n",
       "    </tr>\n",
       "    <tr>\n",
       "      <th>4</th>\n",
       "      <td>2005</td>\n",
       "      <td>4762</td>\n",
       "    </tr>\n",
       "    <tr>\n",
       "      <th>5</th>\n",
       "      <td>2006</td>\n",
       "      <td>4841</td>\n",
       "    </tr>\n",
       "    <tr>\n",
       "      <th>6</th>\n",
       "      <td>2007</td>\n",
       "      <td>4910</td>\n",
       "    </tr>\n",
       "    <tr>\n",
       "      <th>7</th>\n",
       "      <td>2008</td>\n",
       "      <td>5025</td>\n",
       "    </tr>\n",
       "    <tr>\n",
       "      <th>8</th>\n",
       "      <td>2009</td>\n",
       "      <td>5176</td>\n",
       "    </tr>\n",
       "    <tr>\n",
       "      <th>9</th>\n",
       "      <td>2010</td>\n",
       "      <td>5409</td>\n",
       "    </tr>\n",
       "    <tr>\n",
       "      <th>10</th>\n",
       "      <td>2011</td>\n",
       "      <td>5607</td>\n",
       "    </tr>\n",
       "    <tr>\n",
       "      <th>11</th>\n",
       "      <td>2012</td>\n",
       "      <td>5751</td>\n",
       "    </tr>\n",
       "    <tr>\n",
       "      <th>12</th>\n",
       "      <td>2013</td>\n",
       "      <td>5891</td>\n",
       "    </tr>\n",
       "    <tr>\n",
       "      <th>13</th>\n",
       "      <td>2014</td>\n",
       "      <td>6038</td>\n",
       "    </tr>\n",
       "    <tr>\n",
       "      <th>14</th>\n",
       "      <td>2015</td>\n",
       "      <td>6174</td>\n",
       "    </tr>\n",
       "    <tr>\n",
       "      <th>15</th>\n",
       "      <td>2016</td>\n",
       "      <td>6275</td>\n",
       "    </tr>\n",
       "    <tr>\n",
       "      <th>16</th>\n",
       "      <td>2017</td>\n",
       "      <td>6330</td>\n",
       "    </tr>\n",
       "  </tbody>\n",
       "</table>\n",
       "</div>"
      ],
      "text/plain": [
       "    year  list\n",
       "0   2001  4253\n",
       "1   2002  4522\n",
       "2   2003  4604\n",
       "3   2004  4682\n",
       "4   2005  4762\n",
       "5   2006  4841\n",
       "6   2007  4910\n",
       "7   2008  5025\n",
       "8   2009  5176\n",
       "9   2010  5409\n",
       "10  2011  5607\n",
       "11  2012  5751\n",
       "12  2013  5891\n",
       "13  2014  6038\n",
       "14  2015  6174\n",
       "15  2016  6275\n",
       "16  2017  6330"
      ]
     },
     "execution_count": 18,
     "metadata": {},
     "output_type": "execute_result"
    }
   ],
   "source": [
    "institutiondf = pd.DataFrame({'year':InstitutionYearCounts.index, 'list':InstitutionYearCounts.values})\n",
    "institutiondf"
   ]
  },
  {
   "cell_type": "code",
   "execution_count": 19,
   "metadata": {},
   "outputs": [
    {
     "data": {
      "text/html": [
       "<div>\n",
       "<style scoped>\n",
       "    .dataframe tbody tr th:only-of-type {\n",
       "        vertical-align: middle;\n",
       "    }\n",
       "\n",
       "    .dataframe tbody tr th {\n",
       "        vertical-align: top;\n",
       "    }\n",
       "\n",
       "    .dataframe thead th {\n",
       "        text-align: right;\n",
       "    }\n",
       "</style>\n",
       "<table border=\"1\" class=\"dataframe\">\n",
       "  <thead>\n",
       "    <tr style=\"text-align: right;\">\n",
       "      <th></th>\n",
       "      <th>year</th>\n",
       "      <th>list</th>\n",
       "      <th>Institution Annual Rate of Change</th>\n",
       "    </tr>\n",
       "  </thead>\n",
       "  <tbody>\n",
       "    <tr>\n",
       "      <th>0</th>\n",
       "      <td>2001</td>\n",
       "      <td>4253</td>\n",
       "      <td>0.000000</td>\n",
       "    </tr>\n",
       "    <tr>\n",
       "      <th>1</th>\n",
       "      <td>2002</td>\n",
       "      <td>4522</td>\n",
       "      <td>6.324947</td>\n",
       "    </tr>\n",
       "    <tr>\n",
       "      <th>2</th>\n",
       "      <td>2003</td>\n",
       "      <td>4604</td>\n",
       "      <td>1.813357</td>\n",
       "    </tr>\n",
       "    <tr>\n",
       "      <th>3</th>\n",
       "      <td>2004</td>\n",
       "      <td>4682</td>\n",
       "      <td>1.694179</td>\n",
       "    </tr>\n",
       "    <tr>\n",
       "      <th>4</th>\n",
       "      <td>2005</td>\n",
       "      <td>4762</td>\n",
       "      <td>1.708672</td>\n",
       "    </tr>\n",
       "    <tr>\n",
       "      <th>5</th>\n",
       "      <td>2006</td>\n",
       "      <td>4841</td>\n",
       "      <td>1.658967</td>\n",
       "    </tr>\n",
       "    <tr>\n",
       "      <th>6</th>\n",
       "      <td>2007</td>\n",
       "      <td>4910</td>\n",
       "      <td>1.425325</td>\n",
       "    </tr>\n",
       "    <tr>\n",
       "      <th>7</th>\n",
       "      <td>2008</td>\n",
       "      <td>5025</td>\n",
       "      <td>2.342159</td>\n",
       "    </tr>\n",
       "    <tr>\n",
       "      <th>8</th>\n",
       "      <td>2009</td>\n",
       "      <td>5176</td>\n",
       "      <td>3.004975</td>\n",
       "    </tr>\n",
       "    <tr>\n",
       "      <th>9</th>\n",
       "      <td>2010</td>\n",
       "      <td>5409</td>\n",
       "      <td>4.501546</td>\n",
       "    </tr>\n",
       "    <tr>\n",
       "      <th>10</th>\n",
       "      <td>2011</td>\n",
       "      <td>5607</td>\n",
       "      <td>3.660566</td>\n",
       "    </tr>\n",
       "    <tr>\n",
       "      <th>11</th>\n",
       "      <td>2012</td>\n",
       "      <td>5751</td>\n",
       "      <td>2.568218</td>\n",
       "    </tr>\n",
       "    <tr>\n",
       "      <th>12</th>\n",
       "      <td>2013</td>\n",
       "      <td>5891</td>\n",
       "      <td>2.434359</td>\n",
       "    </tr>\n",
       "    <tr>\n",
       "      <th>13</th>\n",
       "      <td>2014</td>\n",
       "      <td>6038</td>\n",
       "      <td>2.495332</td>\n",
       "    </tr>\n",
       "    <tr>\n",
       "      <th>14</th>\n",
       "      <td>2015</td>\n",
       "      <td>6174</td>\n",
       "      <td>2.252401</td>\n",
       "    </tr>\n",
       "    <tr>\n",
       "      <th>15</th>\n",
       "      <td>2016</td>\n",
       "      <td>6275</td>\n",
       "      <td>1.635892</td>\n",
       "    </tr>\n",
       "    <tr>\n",
       "      <th>16</th>\n",
       "      <td>2017</td>\n",
       "      <td>6330</td>\n",
       "      <td>0.876494</td>\n",
       "    </tr>\n",
       "  </tbody>\n",
       "</table>\n",
       "</div>"
      ],
      "text/plain": [
       "    year  list  Institution Annual Rate of Change\n",
       "0   2001  4253                           0.000000\n",
       "1   2002  4522                           6.324947\n",
       "2   2003  4604                           1.813357\n",
       "3   2004  4682                           1.694179\n",
       "4   2005  4762                           1.708672\n",
       "5   2006  4841                           1.658967\n",
       "6   2007  4910                           1.425325\n",
       "7   2008  5025                           2.342159\n",
       "8   2009  5176                           3.004975\n",
       "9   2010  5409                           4.501546\n",
       "10  2011  5607                           3.660566\n",
       "11  2012  5751                           2.568218\n",
       "12  2013  5891                           2.434359\n",
       "13  2014  6038                           2.495332\n",
       "14  2015  6174                           2.252401\n",
       "15  2016  6275                           1.635892\n",
       "16  2017  6330                           0.876494"
      ]
     },
     "execution_count": 19,
     "metadata": {},
     "output_type": "execute_result"
    }
   ],
   "source": [
    "#Rate of change\n",
    "#creating list for data series to calc annual change\n",
    "institutionRate=institutiondf[\"list\"]\n",
    "institutionRate\n",
    "\n",
    "# create list to append annual rates of change to\n",
    "institutionRateOfChange = []\n",
    "#calculate annual rates of change, append to empty change list created above, and create a new column for the annual change rate data\n",
    "start_rate=4253\n",
    "#the above needs to be the first value in your list (index location 0)\n",
    "\n",
    "for rate in institutionRate:\n",
    "    try:\n",
    "        change=((rate/start_rate)-1)*100\n",
    "        institutionRateOfChange.append(change)\n",
    "        start_rate=rate\n",
    "    except:\n",
    "        print(\"Error happened\")\n",
    "\n",
    "institutiondf[\"Institution Annual Rate of Change\"]=institutionRateOfChange\n",
    "\n",
    "institutiondf"
   ]
  },
  {
   "cell_type": "code",
   "execution_count": 20,
   "metadata": {},
   "outputs": [
    {
     "data": {
      "image/png": "[encoded data removed]",
      "text/plain": [
       "<Figure size 432x288 with 1 Axes>"
      ]
     },
     "metadata": {},
     "output_type": "display_data"
    }
   ],
   "source": [
    "xinst=institutiondf[\"year\"]\n",
    "yinst=institutiondf[\"Institution Annual Rate of Change\"]\n",
    "plt.plot(xinst,yinst)\n",
    "plt.plot(x_compat=True)\n",
    "plt.title(\"IPEDS Institution Count - Change Over Year, 2001-2017\")\n",
    "plt.xlabel(\"Year\")\n",
    "plt.ylabel(\"Institions Change Over Year (%)\")\n",
    "plt.grid()"
   ]
  },
  {
   "cell_type": "markdown",
   "metadata": {},
   "source": [
    "# Employment"
   ]
  },
  {
   "cell_type": "code",
   "execution_count": 21,
   "metadata": {},
   "outputs": [
    {
     "data": {
      "text/html": [
       "<div>\n",
       "<style scoped>\n",
       "    .dataframe tbody tr th:only-of-type {\n",
       "        vertical-align: middle;\n",
       "    }\n",
       "\n",
       "    .dataframe tbody tr th {\n",
       "        vertical-align: top;\n",
       "    }\n",
       "\n",
       "    .dataframe thead th {\n",
       "        text-align: right;\n",
       "    }\n",
       "</style>\n",
       "<table border=\"1\" class=\"dataframe\">\n",
       "  <thead>\n",
       "    <tr style=\"text-align: right;\">\n",
       "      <th></th>\n",
       "      <th>Year</th>\n",
       "      <th>Initial Jobless Claims</th>\n",
       "      <th>Unemployment Rate</th>\n",
       "      <th>Labor Force Participation</th>\n",
       "    </tr>\n",
       "  </thead>\n",
       "  <tbody>\n",
       "    <tr>\n",
       "      <th>0</th>\n",
       "      <td>2000</td>\n",
       "      <td>346000</td>\n",
       "      <td>3.9</td>\n",
       "      <td>67.0</td>\n",
       "    </tr>\n",
       "    <tr>\n",
       "      <th>1</th>\n",
       "      <td>2001</td>\n",
       "      <td>405246</td>\n",
       "      <td>4.7</td>\n",
       "      <td>66.8</td>\n",
       "    </tr>\n",
       "    <tr>\n",
       "      <th>2</th>\n",
       "      <td>2002</td>\n",
       "      <td>404283</td>\n",
       "      <td>5.8</td>\n",
       "      <td>66.6</td>\n",
       "    </tr>\n",
       "    <tr>\n",
       "      <th>3</th>\n",
       "      <td>2003</td>\n",
       "      <td>402154</td>\n",
       "      <td>6.0</td>\n",
       "      <td>66.2</td>\n",
       "    </tr>\n",
       "    <tr>\n",
       "      <th>4</th>\n",
       "      <td>2004</td>\n",
       "      <td>342117</td>\n",
       "      <td>5.5</td>\n",
       "      <td>66.0</td>\n",
       "    </tr>\n",
       "  </tbody>\n",
       "</table>\n",
       "</div>"
      ],
      "text/plain": [
       "   Year  Initial Jobless Claims  Unemployment Rate  Labor Force Participation\n",
       "0  2000                  346000                3.9                       67.0\n",
       "1  2001                  405246                4.7                       66.8\n",
       "2  2002                  404283                5.8                       66.6\n",
       "3  2003                  402154                6.0                       66.2\n",
       "4  2004                  342117                5.5                       66.0"
      ]
     },
     "execution_count": 21,
     "metadata": {},
     "output_type": "execute_result"
    }
   ],
   "source": [
    "# Create a reference the CSV file desired\n",
    "employment_csv = \"Employment Data/Employment Summary Data - Annual Averages.csv\"\n",
    "\n",
    "# Read the CSV into a Pandas DataFrame\n",
    "employment_df = pd.read_csv(employment_csv)\n",
    "\n",
    "# Print the first five rows of data to the screen\n",
    "employment_df.head()"
   ]
  },
  {
   "cell_type": "code",
   "execution_count": 22,
   "metadata": {},
   "outputs": [
    {
     "data": {
      "text/plain": [
       "(2000, 2018)"
      ]
     },
     "execution_count": 22,
     "metadata": {},
     "output_type": "execute_result"
    },
    {
     "data": {
      "image/png": "[encoded data removed]",
      "text/plain": [
       "<Figure size 432x288 with 1 Axes>"
      ]
     },
     "metadata": {},
     "output_type": "display_data"
    }
   ],
   "source": [
    "\n",
    "#time series line plots for unemployment rate\n",
    "xu=employment_df[\"Year\"]\n",
    "yu=employment_df[\"Unemployment Rate\"]\n",
    "plt.plot(xu,yu)\n",
    "plt.plot(x_compat=True)\n",
    "plt.title(\"Average Annual Unemployment (2000-2018)\")\n",
    "plt.xlabel(\"Year\")\n",
    "plt.ylabel(\"Unemployment Rate (%)\")\n",
    "plt.xlim([2000, 2018])"
   ]
  },
  {
   "cell_type": "code",
   "execution_count": 23,
   "metadata": {},
   "outputs": [
    {
     "data": {
      "text/plain": [
       "(2000, 2018)"
      ]
     },
     "execution_count": 23,
     "metadata": {},
     "output_type": "execute_result"
    },
    {
     "data": {
      "image/png": "[encoded data removed]",
      "text/plain": [
       "<Figure size 432x288 with 1 Axes>"
      ]
     },
     "metadata": {},
     "output_type": "display_data"
    }
   ],
   "source": [
    "\n",
    "#time series line plots for labor force participation\n",
    "xp=employment_df[\"Year\"]\n",
    "yp=employment_df[\"Labor Force Participation\"]\n",
    "plt.plot(xp,yp)\n",
    "plt.title(\"Average Annual Labor Force Participation (2000-2018)\")\n",
    "plt.xlabel(\"Year\")\n",
    "plt.ylabel(\"Labor Force Participation Rate (%)\")\n",
    "plt.xlim([2000, 2018])"
   ]
  },
  {
   "cell_type": "code",
   "execution_count": 24,
   "metadata": {},
   "outputs": [
    {
     "data": {
      "text/plain": [
       "19"
      ]
     },
     "execution_count": 24,
     "metadata": {},
     "output_type": "execute_result"
    },
    {
     "data": {
      "image/png": "[encoded data removed]",
      "text/plain": [
       "<Figure size 432x288 with 1 Axes>"
      ]
     },
     "metadata": {},
     "output_type": "display_data"
    }
   ],
   "source": [
    "\n",
    "#time series line plots for initial jobless claims\n",
    "xc=employment_df[\"Year\"]\n",
    "yc=employment_df[\"Initial Jobless Claims\"]\n",
    "plt.plot(xc,yc)\n",
    "plt.title(\"Average Annual Initial Jobless Claims (2000-2018)\")\n",
    "plt.xlabel(\"Year\")\n",
    "plt.ylabel(\"Jobless Claims (monthly)\")\n",
    "plt.xlim([2000, 2018])\n",
    "len(employment_df)"
   ]
  },
  {
   "cell_type": "code",
   "execution_count": 25,
   "metadata": {},
   "outputs": [
    {
     "data": {
      "text/plain": [
       "0     3.9\n",
       "1     4.7\n",
       "2     5.8\n",
       "3     6.0\n",
       "4     5.5\n",
       "5     5.1\n",
       "6     4.6\n",
       "7     4.6\n",
       "8     5.8\n",
       "9     9.3\n",
       "10    9.6\n",
       "11    8.9\n",
       "12    8.1\n",
       "13    7.4\n",
       "14    6.2\n",
       "15    5.3\n",
       "16    4.9\n",
       "17    4.4\n",
       "18    4.0\n",
       "Name: Unemployment Rate, dtype: float64"
      ]
     },
     "execution_count": 25,
     "metadata": {},
     "output_type": "execute_result"
    }
   ],
   "source": [
    "#creating list for data series to calc annual change\n",
    "u_rate=employment_df[\"Unemployment Rate\"]\n",
    "u_rate"
   ]
  },
  {
   "cell_type": "code",
   "execution_count": 26,
   "metadata": {},
   "outputs": [],
   "source": [
    "#creating list for data series to calc annual change\n",
    "u_rate=employment_df[\"Unemployment Rate\"]\n",
    "u_rate\n",
    "\n",
    "# create list to append annual rates of change to\n",
    "u_rate_change=[]"
   ]
  },
  {
   "cell_type": "code",
   "execution_count": 27,
   "metadata": {},
   "outputs": [],
   "source": [
    "#calculate annual rates of change, append to empty change list created above, and create a new column for the annual change rate data\n",
    "start_rate=3.9\n",
    "#the above needs to be the first value in your list (index location 0)\n",
    "\n",
    "for rate in u_rate:\n",
    "    try:\n",
    "        change=((rate/start_rate)-1)*100\n",
    "        u_rate_change.append(change)\n",
    "        start_rate=rate\n",
    "    except:\n",
    "        print(\"Error happened\")\n",
    "\n",
    "employment_df[\"Unemployment Annual Rate of Change\"]=u_rate_change"
   ]
  },
  {
   "cell_type": "code",
   "execution_count": 28,
   "metadata": {},
   "outputs": [
    {
     "data": {
      "text/plain": [
       "19"
      ]
     },
     "execution_count": 28,
     "metadata": {},
     "output_type": "execute_result"
    }
   ],
   "source": [
    "len(u_rate_change)"
   ]
  },
  {
   "cell_type": "code",
   "execution_count": 29,
   "metadata": {},
   "outputs": [
    {
     "data": {
      "text/html": [
       "<div>\n",
       "<style scoped>\n",
       "    .dataframe tbody tr th:only-of-type {\n",
       "        vertical-align: middle;\n",
       "    }\n",
       "\n",
       "    .dataframe tbody tr th {\n",
       "        vertical-align: top;\n",
       "    }\n",
       "\n",
       "    .dataframe thead th {\n",
       "        text-align: right;\n",
       "    }\n",
       "</style>\n",
       "<table border=\"1\" class=\"dataframe\">\n",
       "  <thead>\n",
       "    <tr style=\"text-align: right;\">\n",
       "      <th></th>\n",
       "      <th>Year</th>\n",
       "      <th>Initial Jobless Claims</th>\n",
       "      <th>Unemployment Rate</th>\n",
       "      <th>Labor Force Participation</th>\n",
       "      <th>Unemployment Annual Rate of Change</th>\n",
       "    </tr>\n",
       "  </thead>\n",
       "  <tbody>\n",
       "    <tr>\n",
       "      <th>0</th>\n",
       "      <td>2000</td>\n",
       "      <td>346000</td>\n",
       "      <td>3.9</td>\n",
       "      <td>67.0</td>\n",
       "      <td>0.000000</td>\n",
       "    </tr>\n",
       "    <tr>\n",
       "      <th>1</th>\n",
       "      <td>2001</td>\n",
       "      <td>405246</td>\n",
       "      <td>4.7</td>\n",
       "      <td>66.8</td>\n",
       "      <td>20.512821</td>\n",
       "    </tr>\n",
       "    <tr>\n",
       "      <th>2</th>\n",
       "      <td>2002</td>\n",
       "      <td>404283</td>\n",
       "      <td>5.8</td>\n",
       "      <td>66.6</td>\n",
       "      <td>23.404255</td>\n",
       "    </tr>\n",
       "    <tr>\n",
       "      <th>3</th>\n",
       "      <td>2003</td>\n",
       "      <td>402154</td>\n",
       "      <td>6.0</td>\n",
       "      <td>66.2</td>\n",
       "      <td>3.448276</td>\n",
       "    </tr>\n",
       "    <tr>\n",
       "      <th>4</th>\n",
       "      <td>2004</td>\n",
       "      <td>342117</td>\n",
       "      <td>5.5</td>\n",
       "      <td>66.0</td>\n",
       "      <td>-8.333333</td>\n",
       "    </tr>\n",
       "  </tbody>\n",
       "</table>\n",
       "</div>"
      ],
      "text/plain": [
       "   Year  Initial Jobless Claims  Unemployment Rate  Labor Force Participation  \\\n",
       "0  2000                  346000                3.9                       67.0   \n",
       "1  2001                  405246                4.7                       66.8   \n",
       "2  2002                  404283                5.8                       66.6   \n",
       "3  2003                  402154                6.0                       66.2   \n",
       "4  2004                  342117                5.5                       66.0   \n",
       "\n",
       "   Unemployment Annual Rate of Change  \n",
       "0                            0.000000  \n",
       "1                           20.512821  \n",
       "2                           23.404255  \n",
       "3                            3.448276  \n",
       "4                           -8.333333  "
      ]
     },
     "execution_count": 29,
     "metadata": {},
     "output_type": "execute_result"
    }
   ],
   "source": [
    "employment_df.head()"
   ]
  },
  {
   "cell_type": "code",
   "execution_count": 30,
   "metadata": {},
   "outputs": [
    {
     "data": {
      "text/plain": [
       "(2000, 2018)"
      ]
     },
     "execution_count": 30,
     "metadata": {},
     "output_type": "execute_result"
    },
    {
     "data": {
      "image/png": "[encoded data removed]",
      "text/plain": [
       "<Figure size 432x288 with 1 Axes>"
      ]
     },
     "metadata": {},
     "output_type": "display_data"
    }
   ],
   "source": [
    "#time series line plots for unemployment rate change YoY\n",
    "xuc=employment_df[\"Year\"]\n",
    "yuc=employment_df[\"Unemployment Annual Rate of Change\"]\n",
    "plt.plot(xuc,yuc)\n",
    "plt.plot(x_compat=True)\n",
    "plt.title(\"Change in Annual Unemployment (2000-2018,YoY)\")\n",
    "plt.xlabel(\"Year\")\n",
    "plt.ylabel(\"Unemployment Rate Change(%, YoY)\")\n",
    "plt.xlim([2000, 2018])"
   ]
  },
  {
   "cell_type": "code",
   "execution_count": 31,
   "metadata": {},
   "outputs": [
    {
     "data": {
      "text/html": [
       "<div>\n",
       "<style scoped>\n",
       "    .dataframe tbody tr th:only-of-type {\n",
       "        vertical-align: middle;\n",
       "    }\n",
       "\n",
       "    .dataframe tbody tr th {\n",
       "        vertical-align: top;\n",
       "    }\n",
       "\n",
       "    .dataframe thead th {\n",
       "        text-align: right;\n",
       "    }\n",
       "</style>\n",
       "<table border=\"1\" class=\"dataframe\">\n",
       "  <thead>\n",
       "    <tr style=\"text-align: right;\">\n",
       "      <th></th>\n",
       "      <th>Year</th>\n",
       "      <th>Initial Jobless Claims</th>\n",
       "      <th>Unemployment Rate</th>\n",
       "      <th>Labor Force Participation</th>\n",
       "      <th>Unemployment Annual Rate of Change</th>\n",
       "    </tr>\n",
       "  </thead>\n",
       "  <tbody>\n",
       "    <tr>\n",
       "      <th>0</th>\n",
       "      <td>2000</td>\n",
       "      <td>346000</td>\n",
       "      <td>3.9</td>\n",
       "      <td>67.0</td>\n",
       "      <td>0.000000</td>\n",
       "    </tr>\n",
       "    <tr>\n",
       "      <th>1</th>\n",
       "      <td>2001</td>\n",
       "      <td>405246</td>\n",
       "      <td>4.7</td>\n",
       "      <td>66.8</td>\n",
       "      <td>20.512821</td>\n",
       "    </tr>\n",
       "    <tr>\n",
       "      <th>2</th>\n",
       "      <td>2002</td>\n",
       "      <td>404283</td>\n",
       "      <td>5.8</td>\n",
       "      <td>66.6</td>\n",
       "      <td>23.404255</td>\n",
       "    </tr>\n",
       "    <tr>\n",
       "      <th>3</th>\n",
       "      <td>2003</td>\n",
       "      <td>402154</td>\n",
       "      <td>6.0</td>\n",
       "      <td>66.2</td>\n",
       "      <td>3.448276</td>\n",
       "    </tr>\n",
       "    <tr>\n",
       "      <th>4</th>\n",
       "      <td>2004</td>\n",
       "      <td>342117</td>\n",
       "      <td>5.5</td>\n",
       "      <td>66.0</td>\n",
       "      <td>-8.333333</td>\n",
       "    </tr>\n",
       "  </tbody>\n",
       "</table>\n",
       "</div>"
      ],
      "text/plain": [
       "   Year  Initial Jobless Claims  Unemployment Rate  Labor Force Participation  \\\n",
       "0  2000                  346000                3.9                       67.0   \n",
       "1  2001                  405246                4.7                       66.8   \n",
       "2  2002                  404283                5.8                       66.6   \n",
       "3  2003                  402154                6.0                       66.2   \n",
       "4  2004                  342117                5.5                       66.0   \n",
       "\n",
       "   Unemployment Annual Rate of Change  \n",
       "0                            0.000000  \n",
       "1                           20.512821  \n",
       "2                           23.404255  \n",
       "3                            3.448276  \n",
       "4                           -8.333333  "
      ]
     },
     "execution_count": 31,
     "metadata": {},
     "output_type": "execute_result"
    }
   ],
   "source": [
    "employment_df.head()"
   ]
  },
  {
   "cell_type": "code",
   "execution_count": 32,
   "metadata": {},
   "outputs": [
    {
     "data": {
      "text/plain": [
       "0     67.0\n",
       "1     66.8\n",
       "2     66.6\n",
       "3     66.2\n",
       "4     66.0\n",
       "5     66.0\n",
       "6     66.2\n",
       "7     66.0\n",
       "8     66.0\n",
       "9     65.4\n",
       "10    64.7\n",
       "11    64.1\n",
       "12    63.7\n",
       "13    63.3\n",
       "14    62.9\n",
       "15    62.7\n",
       "16    62.8\n",
       "17    62.8\n",
       "18    62.8\n",
       "Name: Labor Force Participation, dtype: float64"
      ]
     },
     "execution_count": 32,
     "metadata": {},
     "output_type": "execute_result"
    }
   ],
   "source": [
    "#creating list for data series to calc annual change\n",
    "pc_rate=employment_df[\"Labor Force Participation\"]\n",
    "pc_rate"
   ]
  },
  {
   "cell_type": "code",
   "execution_count": 33,
   "metadata": {},
   "outputs": [],
   "source": [
    "# create list to append annual rates of change to\n",
    "pc_rate_change=[]"
   ]
  },
  {
   "cell_type": "code",
   "execution_count": 34,
   "metadata": {},
   "outputs": [],
   "source": [
    "#calculate annual rates of change, append to empty change list created above, and create a new column for the annual change rate data\n",
    "start_rate=67\n",
    "\n",
    "#the above needs to be the first value in your list (index location 0)\n",
    "\n",
    "for rate in pc_rate:\n",
    "    try:\n",
    "        change=((rate/start_rate)-1)*100\n",
    "        pc_rate_change.append(change)\n",
    "        start_rate=rate\n",
    "    except:\n",
    "        print(\"Error happened\")\n",
    "\n",
    "employment_df[\"Participation Annual Rate of Change\"]=pc_rate_change"
   ]
  },
  {
   "cell_type": "code",
   "execution_count": 35,
   "metadata": {},
   "outputs": [
    {
     "data": {
      "text/plain": [
       "(2000, 2018)"
      ]
     },
     "execution_count": 35,
     "metadata": {},
     "output_type": "execute_result"
    },
    {
     "data": {
      "image/png": "[encoded data removed]",
      "text/plain": [
       "<Figure size 432x288 with 1 Axes>"
      ]
     },
     "metadata": {},
     "output_type": "display_data"
    }
   ],
   "source": [
    "#time series line plots for unemployment rate change YoY\n",
    "xpc=employment_df[\"Year\"]\n",
    "ypc=employment_df[\"Participation Annual Rate of Change\"]\n",
    "plt.plot(xpc,ypc)\n",
    "plt.plot(x_compat=True)\n",
    "plt.title(\"Change in Annual Labor Force Participation (2000-2018, YoY)\")\n",
    "plt.xlabel(\"Year\")\n",
    "plt.ylabel(\"Participation Rate Change(%, YoY)\")\n",
    "plt.xlim([2000, 2018])"
   ]
  },
  {
   "cell_type": "code",
   "execution_count": 36,
   "metadata": {},
   "outputs": [
    {
     "data": {
      "text/html": [
       "<div>\n",
       "<style scoped>\n",
       "    .dataframe tbody tr th:only-of-type {\n",
       "        vertical-align: middle;\n",
       "    }\n",
       "\n",
       "    .dataframe tbody tr th {\n",
       "        vertical-align: top;\n",
       "    }\n",
       "\n",
       "    .dataframe thead th {\n",
       "        text-align: right;\n",
       "    }\n",
       "</style>\n",
       "<table border=\"1\" class=\"dataframe\">\n",
       "  <thead>\n",
       "    <tr style=\"text-align: right;\">\n",
       "      <th></th>\n",
       "      <th>Year</th>\n",
       "      <th>Initial Jobless Claims</th>\n",
       "      <th>Unemployment Rate</th>\n",
       "      <th>Labor Force Participation</th>\n",
       "      <th>Unemployment Annual Rate of Change</th>\n",
       "      <th>Participation Annual Rate of Change</th>\n",
       "    </tr>\n",
       "  </thead>\n",
       "  <tbody>\n",
       "    <tr>\n",
       "      <th>0</th>\n",
       "      <td>2000</td>\n",
       "      <td>346000</td>\n",
       "      <td>3.9</td>\n",
       "      <td>67.0</td>\n",
       "      <td>0.000000</td>\n",
       "      <td>0.000000</td>\n",
       "    </tr>\n",
       "    <tr>\n",
       "      <th>1</th>\n",
       "      <td>2001</td>\n",
       "      <td>405246</td>\n",
       "      <td>4.7</td>\n",
       "      <td>66.8</td>\n",
       "      <td>20.512821</td>\n",
       "      <td>-0.298507</td>\n",
       "    </tr>\n",
       "    <tr>\n",
       "      <th>2</th>\n",
       "      <td>2002</td>\n",
       "      <td>404283</td>\n",
       "      <td>5.8</td>\n",
       "      <td>66.6</td>\n",
       "      <td>23.404255</td>\n",
       "      <td>-0.299401</td>\n",
       "    </tr>\n",
       "    <tr>\n",
       "      <th>3</th>\n",
       "      <td>2003</td>\n",
       "      <td>402154</td>\n",
       "      <td>6.0</td>\n",
       "      <td>66.2</td>\n",
       "      <td>3.448276</td>\n",
       "      <td>-0.600601</td>\n",
       "    </tr>\n",
       "    <tr>\n",
       "      <th>4</th>\n",
       "      <td>2004</td>\n",
       "      <td>342117</td>\n",
       "      <td>5.5</td>\n",
       "      <td>66.0</td>\n",
       "      <td>-8.333333</td>\n",
       "      <td>-0.302115</td>\n",
       "    </tr>\n",
       "  </tbody>\n",
       "</table>\n",
       "</div>"
      ],
      "text/plain": [
       "   Year  Initial Jobless Claims  Unemployment Rate  Labor Force Participation  \\\n",
       "0  2000                  346000                3.9                       67.0   \n",
       "1  2001                  405246                4.7                       66.8   \n",
       "2  2002                  404283                5.8                       66.6   \n",
       "3  2003                  402154                6.0                       66.2   \n",
       "4  2004                  342117                5.5                       66.0   \n",
       "\n",
       "   Unemployment Annual Rate of Change  Participation Annual Rate of Change  \n",
       "0                            0.000000                             0.000000  \n",
       "1                           20.512821                            -0.298507  \n",
       "2                           23.404255                            -0.299401  \n",
       "3                            3.448276                            -0.600601  \n",
       "4                           -8.333333                            -0.302115  "
      ]
     },
     "execution_count": 36,
     "metadata": {},
     "output_type": "execute_result"
    }
   ],
   "source": [
    "employment_df.head()"
   ]
  },
  {
   "cell_type": "code",
   "execution_count": 37,
   "metadata": {},
   "outputs": [
    {
     "data": {
      "text/plain": [
       "0     346000\n",
       "1     405246\n",
       "2     404283\n",
       "3     402154\n",
       "4     342117\n",
       "5     330988\n",
       "6     312092\n",
       "7     320683\n",
       "8     417708\n",
       "9     574279\n",
       "10    458808\n",
       "11    408679\n",
       "12    374863\n",
       "13    343625\n",
       "14    308342\n",
       "15    278204\n",
       "16    262638\n",
       "17    244417\n",
       "18    225675\n",
       "Name: Initial Jobless Claims, dtype: int64"
      ]
     },
     "execution_count": 37,
     "metadata": {},
     "output_type": "execute_result"
    }
   ],
   "source": [
    "#creating list for data series to calc annual change\n",
    "cc_rate=employment_df[\"Initial Jobless Claims\"]\n",
    "cc_rate"
   ]
  },
  {
   "cell_type": "code",
   "execution_count": 38,
   "metadata": {},
   "outputs": [],
   "source": [
    "# create list to append annual rates of change to\n",
    "cc_rate_change=[]"
   ]
  },
  {
   "cell_type": "code",
   "execution_count": 39,
   "metadata": {},
   "outputs": [],
   "source": [
    "#calculate annual rates of change, append to empty change list created above, and create a new column for the annual change rate data\n",
    "start_rate=346000\n",
    "\n",
    "#the above needs to be the first value in your list (index location 0)\n",
    "\n",
    "for rate in cc_rate:\n",
    "    try:\n",
    "        change=((rate/start_rate)-1)*100\n",
    "        cc_rate_change.append(change)\n",
    "        start_rate=rate\n",
    "    except:\n",
    "        print(\"Error happened\")\n",
    "\n",
    "employment_df[\"Jobless Claims Annual Rate of Change\"]=cc_rate_change"
   ]
  },
  {
   "cell_type": "code",
   "execution_count": 40,
   "metadata": {},
   "outputs": [
    {
     "data": {
      "image/png": "[encoded data removed]",
      "text/plain": [
       "<Figure size 432x288 with 1 Axes>"
      ]
     },
     "metadata": {},
     "output_type": "display_data"
    },
    {
     "data": {
      "image/png": "[encoded data removed]",
      "text/plain": [
       "<Figure size 432x288 with 1 Axes>"
      ]
     },
     "metadata": {},
     "output_type": "display_data"
    },
    {
     "data": {
      "image/png": "[encoded data removed]",
      "text/plain": [
       "<Figure size 432x288 with 1 Axes>"
      ]
     },
     "metadata": {},
     "output_type": "display_data"
    }
   ],
   "source": [
    "#time series line plots for unemployment rate\n",
    "xu=employment_df[\"Year\"]\n",
    "yu=employment_df[\"Unemployment Rate\"]\n",
    "plt.plot(xu,yu)\n",
    "plt.plot(x_compat=True)\n",
    "plt.title(\"Average Annual Unemployment (2000-2018)\")\n",
    "plt.xlabel(\"Year\")\n",
    "plt.ylabel(\"Unemployment Rate (%)\")\n",
    "plt.xlim([2000, 2018])\n",
    "plt.grid()\n",
    "plt.savefig(\"Average Annual Unemployment (2000-2018)_fig.png\")\n",
    "plt.show()\n",
    "\n",
    "#time series line plots for labor force participation\n",
    "xp=employment_df[\"Year\"]\n",
    "yp=employment_df[\"Labor Force Participation\"]\n",
    "plt.plot(xp,yp)\n",
    "plt.title(\"Average Annual Labor Force Participation (2000-2018)\")\n",
    "plt.xlabel(\"Year\")\n",
    "plt.ylabel(\"Labor Force Participation Rate (%)\")\n",
    "plt.xlim([2000, 2018])\n",
    "plt.grid()\n",
    "plt.savefig(\"Average Annual Labor Force Participation (2000-2018)_fig.png\")\n",
    "plt.show()\n",
    "\n",
    "#time series line plots for initial jobless claims\n",
    "xc=employment_df[\"Year\"]\n",
    "yc=employment_df[\"Initial Jobless Claims\"]\n",
    "plt.plot(xc,yc)\n",
    "plt.title(\"Average Annual Initial Jobless Claims (2000-2018)\")\n",
    "plt.xlabel(\"Year\")\n",
    "plt.ylabel(\"Jobless Claims (weekly)\")\n",
    "plt.xlim([2000, 2018])\n",
    "plt.grid()\n",
    "plt.savefig(\"Average Annual Initial Jobless Claims (2000-2018)_fig.png\")\n",
    "plt.show()"
   ]
  },
  {
   "cell_type": "code",
   "execution_count": 41,
   "metadata": {},
   "outputs": [],
   "source": [
    "#Observations over time:\n",
    "# Annual average unemployment rate has ranged between 4% and 10% since 2000.\n",
    "# Annual average labor force participation (pull def for presentation) has ranged between 67% and 63% since 2000.\n",
    "# Annual average initial jobless claims have ranged between 225k and 550k since 2000.\n",
    "# Unemployment and jobless claims saw a small increase from 2000-2003, declined until 2007, and then spiked dramatically in 2008-2010.\n",
    "# The spike was followed by a decline that is still occurring.\n",
    "# Labor force participation has declined \n",
    "\n"
   ]
  },
  {
   "cell_type": "code",
   "execution_count": 42,
   "metadata": {},
   "outputs": [
    {
     "data": {
      "image/png": "[encoded data removed]",
      "text/plain": [
       "<Figure size 432x288 with 1 Axes>"
      ]
     },
     "metadata": {},
     "output_type": "display_data"
    },
    {
     "data": {
      "image/png": "[encoded data removed]",
      "text/plain": [
       "<Figure size 432x288 with 1 Axes>"
      ]
     },
     "metadata": {},
     "output_type": "display_data"
    },
    {
     "data": {
      "image/png": "[encoded data removed]",
      "text/plain": [
       "<Figure size 432x288 with 1 Axes>"
      ]
     },
     "metadata": {},
     "output_type": "display_data"
    }
   ],
   "source": [
    "#time series line plots for unemployment rate change YoY\n",
    "xcc=employment_df[\"Year\"]\n",
    "ycc=employment_df[\"Jobless Claims Annual Rate of Change\"]\n",
    "plt.plot(xcc,ycc)\n",
    "plt.plot(x_compat=True)\n",
    "plt.title(\"Jobless Claims Rate of Change (2000-2018, YoY)\")\n",
    "plt.xlabel(\"Year\")\n",
    "plt.ylabel(\"Jobless Claims Rate Change(%, YoY)\")\n",
    "plt.xlim([2000, 2018])\n",
    "plt.grid()\n",
    "plt.savefig(\"Jobless Claims Rate of Change (2000-2018, YoY)_fig.png\")\n",
    "plt.show()\n",
    "\n",
    "#time series line plots for unemployment rate change YoY\n",
    "xuc=employment_df[\"Year\"]\n",
    "yuc=employment_df[\"Unemployment Annual Rate of Change\"]\n",
    "plt.plot(xuc,yuc)\n",
    "plt.plot(x_compat=True)\n",
    "plt.title(\"Annual Unemployment Change (2000-2018,YoY)\")\n",
    "plt.xlabel(\"Year\")\n",
    "plt.ylabel(\"Unemployment Rate Change(%, YoY)\")\n",
    "plt.xlim([2000, 2018])\n",
    "plt.grid()\n",
    "plt.savefig(\"Annual Unemployment Change (2000-2018,YoY)_fig.png\")\n",
    "plt.show()\n",
    "\n",
    "#time series line plots for unemployment rate change YoY\n",
    "xpc=employment_df[\"Year\"]\n",
    "ypc=employment_df[\"Participation Annual Rate of Change\"]\n",
    "plt.plot(xpc,ypc)\n",
    "plt.plot(x_compat=True)\n",
    "plt.title(\"Annual Labor Force Participation Change (2000-2018, YoY)\")\n",
    "plt.xlabel(\"Year\")\n",
    "plt.ylabel(\"Participation Rate Change(%, YoY)\")\n",
    "plt.xlim([2000, 2018])\n",
    "plt.grid()\n",
    "plt.savefig(\"Annual Labor Force Participation Change (2000-2018, YoY)_fig.png\")\n",
    "plt.show()\n"
   ]
  },
  {
   "cell_type": "markdown",
   "metadata": {},
   "source": [
    "# Completions"
   ]
  },
  {
   "cell_type": "code",
   "execution_count": 46,
   "metadata": {},
   "outputs": [
    {
     "ename": "FileNotFoundError",
     "evalue": "File b'Completions -- Degree awarded by program type 2005-17/COMPREHENSIVE Degree awarded by program type 2005-17' does not exist",
     "output_type": "error",
     "traceback": [
      "\u001b[1;31m---------------------------------------------------------------------------\u001b[0m",
      "\u001b[1;31mFileNotFoundError\u001b[0m                         Traceback (most recent call last)",
      "\u001b[1;32m<ipython-input-46-23cec3b84543>\u001b[0m in \u001b[0;36m<module>\u001b[1;34m()\u001b[0m\n\u001b[0;32m      1\u001b[0m \u001b[1;31m# Use Pandas data frame to read csv data\u001b[0m\u001b[1;33m\u001b[0m\u001b[1;33m\u001b[0m\u001b[0m\n\u001b[1;32m----> 2\u001b[1;33m \u001b[0mDegree_Awarded_df1\u001b[0m \u001b[1;33m=\u001b[0m \u001b[0mpd\u001b[0m\u001b[1;33m.\u001b[0m\u001b[0mread_csv\u001b[0m\u001b[1;33m(\u001b[0m\u001b[1;34m\"Completions -- Degree awarded by program type 2005-17/COMPREHENSIVE Degree awarded by program type 2005-17\"\u001b[0m\u001b[1;33m)\u001b[0m\u001b[1;33m\u001b[0m\u001b[0m\n\u001b[0m\u001b[0;32m      3\u001b[0m \u001b[0mDegree_Awarded_df1\u001b[0m\u001b[1;33m.\u001b[0m\u001b[0mhead\u001b[0m\u001b[1;33m(\u001b[0m\u001b[1;33m)\u001b[0m\u001b[1;33m\u001b[0m\u001b[0m\n",
      "\u001b[1;32m~\\Anaconda3\\lib\\site-packages\\pandas\\io\\parsers.py\u001b[0m in \u001b[0;36mparser_f\u001b[1;34m(filepath_or_buffer, sep, delimiter, header, names, index_col, usecols, squeeze, prefix, mangle_dupe_cols, dtype, engine, converters, true_values, false_values, skipinitialspace, skiprows, nrows, na_values, keep_default_na, na_filter, verbose, skip_blank_lines, parse_dates, infer_datetime_format, keep_date_col, date_parser, dayfirst, iterator, chunksize, compression, thousands, decimal, lineterminator, quotechar, quoting, escapechar, comment, encoding, dialect, tupleize_cols, error_bad_lines, warn_bad_lines, skipfooter, doublequote, delim_whitespace, low_memory, memory_map, float_precision)\u001b[0m\n\u001b[0;32m    676\u001b[0m                     skip_blank_lines=skip_blank_lines)\n\u001b[0;32m    677\u001b[0m \u001b[1;33m\u001b[0m\u001b[0m\n\u001b[1;32m--> 678\u001b[1;33m         \u001b[1;32mreturn\u001b[0m \u001b[0m_read\u001b[0m\u001b[1;33m(\u001b[0m\u001b[0mfilepath_or_buffer\u001b[0m\u001b[1;33m,\u001b[0m \u001b[0mkwds\u001b[0m\u001b[1;33m)\u001b[0m\u001b[1;33m\u001b[0m\u001b[0m\n\u001b[0m\u001b[0;32m    679\u001b[0m \u001b[1;33m\u001b[0m\u001b[0m\n\u001b[0;32m    680\u001b[0m     \u001b[0mparser_f\u001b[0m\u001b[1;33m.\u001b[0m\u001b[0m__name__\u001b[0m \u001b[1;33m=\u001b[0m \u001b[0mname\u001b[0m\u001b[1;33m\u001b[0m\u001b[0m\n",
      "\u001b[1;32m~\\Anaconda3\\lib\\site-packages\\pandas\\io\\parsers.py\u001b[0m in \u001b[0;36m_read\u001b[1;34m(filepath_or_buffer, kwds)\u001b[0m\n\u001b[0;32m    438\u001b[0m \u001b[1;33m\u001b[0m\u001b[0m\n\u001b[0;32m    439\u001b[0m     \u001b[1;31m# Create the parser.\u001b[0m\u001b[1;33m\u001b[0m\u001b[1;33m\u001b[0m\u001b[0m\n\u001b[1;32m--> 440\u001b[1;33m     \u001b[0mparser\u001b[0m \u001b[1;33m=\u001b[0m \u001b[0mTextFileReader\u001b[0m\u001b[1;33m(\u001b[0m\u001b[0mfilepath_or_buffer\u001b[0m\u001b[1;33m,\u001b[0m \u001b[1;33m**\u001b[0m\u001b[0mkwds\u001b[0m\u001b[1;33m)\u001b[0m\u001b[1;33m\u001b[0m\u001b[0m\n\u001b[0m\u001b[0;32m    441\u001b[0m \u001b[1;33m\u001b[0m\u001b[0m\n\u001b[0;32m    442\u001b[0m     \u001b[1;32mif\u001b[0m \u001b[0mchunksize\u001b[0m \u001b[1;32mor\u001b[0m \u001b[0miterator\u001b[0m\u001b[1;33m:\u001b[0m\u001b[1;33m\u001b[0m\u001b[0m\n",
      "\u001b[1;32m~\\Anaconda3\\lib\\site-packages\\pandas\\io\\parsers.py\u001b[0m in \u001b[0;36m__init__\u001b[1;34m(self, f, engine, **kwds)\u001b[0m\n\u001b[0;32m    785\u001b[0m             \u001b[0mself\u001b[0m\u001b[1;33m.\u001b[0m\u001b[0moptions\u001b[0m\u001b[1;33m[\u001b[0m\u001b[1;34m'has_index_names'\u001b[0m\u001b[1;33m]\u001b[0m \u001b[1;33m=\u001b[0m \u001b[0mkwds\u001b[0m\u001b[1;33m[\u001b[0m\u001b[1;34m'has_index_names'\u001b[0m\u001b[1;33m]\u001b[0m\u001b[1;33m\u001b[0m\u001b[0m\n\u001b[0;32m    786\u001b[0m \u001b[1;33m\u001b[0m\u001b[0m\n\u001b[1;32m--> 787\u001b[1;33m         \u001b[0mself\u001b[0m\u001b[1;33m.\u001b[0m\u001b[0m_make_engine\u001b[0m\u001b[1;33m(\u001b[0m\u001b[0mself\u001b[0m\u001b[1;33m.\u001b[0m\u001b[0mengine\u001b[0m\u001b[1;33m)\u001b[0m\u001b[1;33m\u001b[0m\u001b[0m\n\u001b[0m\u001b[0;32m    788\u001b[0m \u001b[1;33m\u001b[0m\u001b[0m\n\u001b[0;32m    789\u001b[0m     \u001b[1;32mdef\u001b[0m \u001b[0mclose\u001b[0m\u001b[1;33m(\u001b[0m\u001b[0mself\u001b[0m\u001b[1;33m)\u001b[0m\u001b[1;33m:\u001b[0m\u001b[1;33m\u001b[0m\u001b[0m\n",
      "\u001b[1;32m~\\Anaconda3\\lib\\site-packages\\pandas\\io\\parsers.py\u001b[0m in \u001b[0;36m_make_engine\u001b[1;34m(self, engine)\u001b[0m\n\u001b[0;32m   1012\u001b[0m     \u001b[1;32mdef\u001b[0m \u001b[0m_make_engine\u001b[0m\u001b[1;33m(\u001b[0m\u001b[0mself\u001b[0m\u001b[1;33m,\u001b[0m \u001b[0mengine\u001b[0m\u001b[1;33m=\u001b[0m\u001b[1;34m'c'\u001b[0m\u001b[1;33m)\u001b[0m\u001b[1;33m:\u001b[0m\u001b[1;33m\u001b[0m\u001b[0m\n\u001b[0;32m   1013\u001b[0m         \u001b[1;32mif\u001b[0m \u001b[0mengine\u001b[0m \u001b[1;33m==\u001b[0m \u001b[1;34m'c'\u001b[0m\u001b[1;33m:\u001b[0m\u001b[1;33m\u001b[0m\u001b[0m\n\u001b[1;32m-> 1014\u001b[1;33m             \u001b[0mself\u001b[0m\u001b[1;33m.\u001b[0m\u001b[0m_engine\u001b[0m \u001b[1;33m=\u001b[0m \u001b[0mCParserWrapper\u001b[0m\u001b[1;33m(\u001b[0m\u001b[0mself\u001b[0m\u001b[1;33m.\u001b[0m\u001b[0mf\u001b[0m\u001b[1;33m,\u001b[0m \u001b[1;33m**\u001b[0m\u001b[0mself\u001b[0m\u001b[1;33m.\u001b[0m\u001b[0moptions\u001b[0m\u001b[1;33m)\u001b[0m\u001b[1;33m\u001b[0m\u001b[0m\n\u001b[0m\u001b[0;32m   1015\u001b[0m         \u001b[1;32melse\u001b[0m\u001b[1;33m:\u001b[0m\u001b[1;33m\u001b[0m\u001b[0m\n\u001b[0;32m   1016\u001b[0m             \u001b[1;32mif\u001b[0m \u001b[0mengine\u001b[0m \u001b[1;33m==\u001b[0m \u001b[1;34m'python'\u001b[0m\u001b[1;33m:\u001b[0m\u001b[1;33m\u001b[0m\u001b[0m\n",
      "\u001b[1;32m~\\Anaconda3\\lib\\site-packages\\pandas\\io\\parsers.py\u001b[0m in \u001b[0;36m__init__\u001b[1;34m(self, src, **kwds)\u001b[0m\n\u001b[0;32m   1706\u001b[0m         \u001b[0mkwds\u001b[0m\u001b[1;33m[\u001b[0m\u001b[1;34m'usecols'\u001b[0m\u001b[1;33m]\u001b[0m \u001b[1;33m=\u001b[0m \u001b[0mself\u001b[0m\u001b[1;33m.\u001b[0m\u001b[0musecols\u001b[0m\u001b[1;33m\u001b[0m\u001b[0m\n\u001b[0;32m   1707\u001b[0m \u001b[1;33m\u001b[0m\u001b[0m\n\u001b[1;32m-> 1708\u001b[1;33m         \u001b[0mself\u001b[0m\u001b[1;33m.\u001b[0m\u001b[0m_reader\u001b[0m \u001b[1;33m=\u001b[0m \u001b[0mparsers\u001b[0m\u001b[1;33m.\u001b[0m\u001b[0mTextReader\u001b[0m\u001b[1;33m(\u001b[0m\u001b[0msrc\u001b[0m\u001b[1;33m,\u001b[0m \u001b[1;33m**\u001b[0m\u001b[0mkwds\u001b[0m\u001b[1;33m)\u001b[0m\u001b[1;33m\u001b[0m\u001b[0m\n\u001b[0m\u001b[0;32m   1709\u001b[0m \u001b[1;33m\u001b[0m\u001b[0m\n\u001b[0;32m   1710\u001b[0m         \u001b[0mpassed_names\u001b[0m \u001b[1;33m=\u001b[0m \u001b[0mself\u001b[0m\u001b[1;33m.\u001b[0m\u001b[0mnames\u001b[0m \u001b[1;32mis\u001b[0m \u001b[1;32mNone\u001b[0m\u001b[1;33m\u001b[0m\u001b[0m\n",
      "\u001b[1;32mpandas\\_libs\\parsers.pyx\u001b[0m in \u001b[0;36mpandas._libs.parsers.TextReader.__cinit__\u001b[1;34m()\u001b[0m\n",
      "\u001b[1;32mpandas\\_libs\\parsers.pyx\u001b[0m in \u001b[0;36mpandas._libs.parsers.TextReader._setup_parser_source\u001b[1;34m()\u001b[0m\n",
      "\u001b[1;31mFileNotFoundError\u001b[0m: File b'Completions -- Degree awarded by program type 2005-17/COMPREHENSIVE Degree awarded by program type 2005-17' does not exist"
     ]
    }
   ],
   "source": [
    "# Use Pandas data frame to read csv data\n",
    "Degree_Awarded_df1 = pd.read_csv(\"Completions -- Degree awarded by program type 2005-17/COMPREHENSIVE Degree awarded by program type 2005-17\")\n",
    "Degree_Awarded_df1.head()"
   ]
  },
  {
   "cell_type": "code",
   "execution_count": null,
   "metadata": {},
   "outputs": [],
   "source": [
    "# How many institutions are we starting with?\n",
    "totalInstitutions = len(Degree_Awarded_df1)\n",
    "print(totalInstitutions)"
   ]
  },
  {
   "cell_type": "code",
   "execution_count": null,
   "metadata": {},
   "outputs": [],
   "source": [
    "# DELETE UNWANTED COLUMNS \n",
    "Degree_Awarded_df2 = Degree_Awarded_df1.drop([\"DFR2005.Master's degree\", \"Unnamed: 8\"], axis = 1)\n",
    "Degree_Awarded_df2.head()"
   ]
  },
  {
   "cell_type": "code",
   "execution_count": null,
   "metadata": {},
   "outputs": [],
   "source": [
    "# RENAME COLUMNS\n",
    "Degree_Awarded_df3 = Degree_Awarded_df2.rename(columns={\n",
    "    \"DFR2005.Associate's degree\" : \"Associate's Degree\",\n",
    "    \"DFR2005.Bachelor's degree\": \"Bachelor's Degree\", \n",
    "    \"DFR2005.Certificates of less-than 1-year\" : \"Shorter Certificates\",\n",
    "    \"DFR2005.Certificates of 1 but less than 2 years\" : \"Longer Certificates\"})\n",
    "\n",
    "Degree_Awarded_df3.head()"
   ]
  },
  {
   "cell_type": "code",
   "execution_count": null,
   "metadata": {},
   "outputs": [],
   "source": [
    "# REMOVE ROWS WITH MISSING DATA \n",
    "Degree_Awarded_df4 = Degree_Awarded_df3.dropna(how=\"any\")\n",
    "Degree_Awarded_df4.head()"
   ]
  },
  {
   "cell_type": "code",
   "execution_count": null,
   "metadata": {},
   "outputs": [],
   "source": [
    "institutionsMinusBlanks = len(Degree_Awarded_df4)\n",
    "print(institutionsMinusBlanks)"
   ]
  },
  {
   "cell_type": "code",
   "execution_count": null,
   "metadata": {},
   "outputs": [],
   "source": [
    "institutionsDeleted = totalInstitutions - institutionsMinusBlanks\n",
    "print(institutionsDeleted)"
   ]
  },
  {
   "cell_type": "code",
   "execution_count": null,
   "metadata": {},
   "outputs": [],
   "source": [
    "# Column rearrange    \n",
    "Degree_Awarded_df5 = Degree_Awarded_df4[[\"unitid\",\"year\",\"institution name\",\"Shorter Certificates\",\"Longer Certificates\",\"Associate's Degree\",\"Bachelor's Degree\"]]\n",
    "Degree_Awarded_df5.head()"
   ]
  },
  {
   "cell_type": "code",
   "execution_count": null,
   "metadata": {},
   "outputs": [],
   "source": [
    "#As type to change the years type to get rid of those pesky .0 and replace the current year column with this new clean one\n",
    "Degree_Awarded_df5[\"year\"]=Degree_Awarded_df5[\"year\"].astype(int)\n",
    "Degree_Awarded_df5.head()"
   ]
  },
  {
   "cell_type": "code",
   "execution_count": null,
   "metadata": {},
   "outputs": [],
   "source": [
    "InstitutionYearCounts = Degree_Awarded_df5.groupby(\"year\")[\"year\"].count()\n",
    "InstitutionYearCounts"
   ]
  },
  {
   "cell_type": "code",
   "execution_count": null,
   "metadata": {},
   "outputs": [],
   "source": [
    "institutionCount = InstitutionYearCounts.plot.line(style='.-', x='index', marker ='o', color='blue')\n",
    "institutionCount.set_ylim(ymin=1500, ymax=1800)\n",
    "institutionCount.set_xlim(xmin=2004, xmax=2018)\n",
    "plt.title(\"Degrees Awarded Institution Count 2005-2017\")\n",
    "plt.xlabel(\"Year\")\n",
    "plt.ylabel(\"Number of Institutions\")\n",
    "plt.grid()\n",
    "plt.savefig(\"Degrees Awarded Institution Count 2005-2017_fig.png\")\n",
    "plt.show()"
   ]
  },
  {
   "cell_type": "code",
   "execution_count": null,
   "metadata": {},
   "outputs": [],
   "source": [
    "# Total Degrees Awarded per Year \n",
    "\n",
    "# Shorter Certificates\n",
    "df6 = Degree_Awarded_df5.groupby([\"year\"])[\"Shorter Certificates\"].sum().astype(int)\n",
    "\n",
    "# Longer Certificates\n",
    "df7 = Degree_Awarded_df5.groupby([\"year\"])[\"Longer Certificates\"].sum().astype(int)\n",
    "\n",
    "# Associate's Degree\n",
    "df8 = Degree_Awarded_df5.groupby([\"year\"])[\"Associate's Degree\"].sum().astype(int)\n",
    "\n",
    "# Bachelor's degree\n",
    "df9 = Degree_Awarded_df5.groupby([\"year\"])[\"Bachelor's Degree\"].sum().astype(int)\n",
    "\n",
    "\n",
    "# Convert to DataFrame\n",
    "AwardsPerYear = pd.DataFrame({\"Shorter Certificates\":df6,\n",
    "                     \"Longer Certificates\": df7,\n",
    "                     \"Associate's Degree\": df8,\n",
    "                     \"Bachelor's Degree\" : df9             \n",
    "                    })\n",
    "\n",
    "AwardsPerYear"
   ]
  },
  {
   "cell_type": "code",
   "execution_count": null,
   "metadata": {},
   "outputs": [],
   "source": [
    "# Add up Total Degree per year\n",
    "summary_df = pd.concat([AwardsPerYear,pd.DataFrame(AwardsPerYear.sum(axis=1),columns=['Total_Degree'])],axis=1)\n",
    "summary_df"
   ]
  },
  {
   "cell_type": "code",
   "execution_count": null,
   "metadata": {},
   "outputs": [],
   "source": [
    "# Set index for the plots below to work\n",
    "summary_df = summary_df.reset_index()\n",
    "summary_df"
   ]
  },
  {
   "cell_type": "code",
   "execution_count": null,
   "metadata": {},
   "outputs": [],
   "source": [
    "multi_plot = summary_df.plot(kind=\"bar\", figsize=(20,5), color=['yellow', 'aqua', 'blue', 'lightgreen', 'coral', 'green'])\n",
    "multi_plot.set_xticklabels(summary_df[\"year\"], rotation=45)\n",
    "\n",
    "plt.ylim(0, 2500000)\n",
    "plt.title(\"Summary of Degrees Awarded per Program Types (2005-2017)\")\n",
    "plt.ylabel(\"Sum of Degree Awarded\")\n",
    "plt.savefig(\"Summary of Degrees Awarded per Program Types (2005-2017)\")\n",
    "plt.show()\n",
    "plt.tight_layout()"
   ]
  },
  {
   "cell_type": "code",
   "execution_count": null,
   "metadata": {},
   "outputs": [],
   "source": [
    "#time series line plots for initial jobless claims\n",
    "xc=summary_df[\"year\"]\n",
    "yc=summary_df[\"Shorter Certificates\"]\n",
    "plt.plot(xc,yc, color=\"blue\",marker ='o')\n",
    "plt.xlabel(\"Year\")\n",
    "plt.ylabel(\"Degree Awarded\")\n",
    "plt.xlim([2004, 2018])\n",
    "plt.ylim([5000, 20000])\n",
    "plt.title(\"Shorter Certificates Awarded (2005-2017)\")\n",
    "plt.grid()\n",
    "plt.savefig(\"Shorter Certificates Awarded (2005-2017)\")\n",
    "plt.show()\n",
    "\n",
    "xc=summary_df[\"year\"]\n",
    "yc=summary_df[\"Longer Certificates\"]\n",
    "plt.plot(xc,yc, color=\"magenta\",marker ='o')\n",
    "plt.xlabel(\"Year\")\n",
    "plt.ylabel(\"Degree Awarded\")\n",
    "plt.xlim([2004, 2018])\n",
    "plt.ylim([5000, 20000])\n",
    "plt.title(\"Longer Certificates Awarded (2005-2017)\")\n",
    "plt.grid()\n",
    "plt.savefig(\"Longer Certificates Awarded (2005-2017)\")\n",
    "plt.show()\n",
    "\n",
    "xc=summary_df[\"year\"]\n",
    "yc=summary_df[\"Associate's Degree\"]\n",
    "plt.plot(xc,yc, color=\"indigo\",marker ='o')\n",
    "plt.xlabel(\"Year\")\n",
    "plt.ylabel(\"Degree Awarded\")\n",
    "plt.xlim([2004, 2018])\n",
    "plt.ylim([60000, 100000])\n",
    "plt.title(\"Associate's Degree Awarded (2005-2017)\")\n",
    "plt.grid()\n",
    "plt.savefig(\"Associate's Degree Awarded (2005-2017)\")\n",
    "plt.show()\n",
    "\n",
    "xc=summary_df[\"year\"]\n",
    "yc=summary_df[\"Bachelor's Degree\"]\n",
    "plt.plot(xc,yc, color=\"yellowgreen\",marker ='o')\n",
    "plt.xlabel(\"Year\")\n",
    "plt.ylabel(\"Degree Awarded\")\n",
    "plt.xlim([2004, 2018])\n",
    "plt.ylim([1200000, 1800000])\n",
    "plt.title(\"Bachelor's Degree Awarded (2005-2017)\")\n",
    "plt.grid()\n",
    "plt.savefig(\"Bachelor's Degree Awarded (2005-2017)\")\n",
    "plt.show()\n",
    "\n",
    "xc=summary_df[\"year\"]\n",
    "yc=summary_df[\"Total_Degree\"]\n",
    "plt.plot(xc,yc, color=\"red\",marker ='o')\n",
    "plt.xlabel(\"Year\")\n",
    "plt.ylabel(\"Degree Awarded\")\n",
    "plt.xlim([2004, 2018])\n",
    "plt.ylim([1300000, 1900000])\n",
    "plt.title(\"Total Degree Awarded (2005-2017)\")\n",
    "plt.grid()\n",
    "plt.savefig(\"Total Degree Awarded (2005-2017)\")\n",
    "plt.show()"
   ]
  },
  {
   "cell_type": "code",
   "execution_count": null,
   "metadata": {},
   "outputs": [],
   "source": [
    "TotalAwardsPerYear = AwardsPerYear.sum()\n",
    "TotalAwardsPerYear"
   ]
  },
  {
   "cell_type": "code",
   "execution_count": null,
   "metadata": {},
   "outputs": [],
   "source": [
    "DegreeAwarded_2005_2017 = pd.DataFrame({'Program Type':TotalAwardsPerYear.index, 'Awarded Total':TotalAwardsPerYear.values})\n",
    "DegreeAwarded_2005_2017"
   ]
  },
  {
   "cell_type": "code",
   "execution_count": null,
   "metadata": {},
   "outputs": [],
   "source": []
  },
  {
   "cell_type": "code",
   "execution_count": null,
   "metadata": {},
   "outputs": [],
   "source": []
  },
  {
   "cell_type": "markdown",
   "metadata": {},
   "source": [
    "# Combined Data "
   ]
  },
  {
   "cell_type": "code",
   "execution_count": null,
   "metadata": {
    "scrolled": true
   },
   "outputs": [],
   "source": [
    "#remove 2000 and 2018 data from employment graph so that we can layer the plots\n",
    "employ01to17_df = employment_df.drop(employment_df.index[[0,18]])\n",
    "employ01to17_df.head()\n"
   ]
  },
  {
   "cell_type": "code",
   "execution_count": null,
   "metadata": {},
   "outputs": [],
   "source": [
    "y = [\"2001\", \"2002\", \"2003\", \"2004\", \"2005\", \"2006\", \"2007\", \"2008\", \"2009\", \"2010\", \"2011\", \"2012\", \"2013\", \"2014\", \"2015\", \"2016\", \"2017\"]\n",
    "a = enrollmentByYear[\"Enrollment Annual Rate of Change\"]\n",
    "b = employ01to17_df[\"Unemployment Annual Rate of Change\"]\n",
    "\n",
    "\n",
    "plt.plot(y, a, 'r') # plotting t, a separately \n",
    "plt.plot(y, b, 'b') # plotting t, b separately \n",
    "\n",
    "plt.grid()\n",
    "plt.show()"
   ]
  },
  {
   "cell_type": "code",
   "execution_count": null,
   "metadata": {},
   "outputs": [],
   "source": [
    "fig, ax1 = plt.subplots()\n",
    "\n",
    "color = 'tab:red'\n",
    "ax1.set_xlabel('Years')\n",
    "ax1.set_ylabel('Enrollment Rate', color=color)\n",
    "ax1.plot(y, a, color=color)\n",
    "ax1.tick_params(axis='y', labelcolor=color)\n",
    "for tick in ax1.get_xticklabels():\n",
    "    tick.set_rotation(45)\n",
    "ax2 = ax1.twinx()  # instantiate a second axes that shares the same x-axis\n",
    "\n",
    "color = 'tab:blue'\n",
    "ax2.set_ylabel('Unemployment Rate', color=color)  # we already handled the x-label with ax1\n",
    "ax2.plot(y, b, color=color)\n",
    "ax2.tick_params(axis='y', labelcolor=color)\n",
    "\n",
    "\n",
    "\n",
    "#fig.tight_layout()  # otherwise the right y-label is slightly clipped\n",
    "plt.grid()\n",
    "plt.show()"
   ]
  },
  {
   "cell_type": "code",
   "execution_count": null,
   "metadata": {},
   "outputs": [],
   "source": []
  }
 ],
 "metadata": {
  "kernelspec": {
   "display_name": "Python 3",
   "language": "python",
   "name": "python3"
  },
  "language_info": {
   "codemirror_mode": {
    "name": "ipython",
    "version": 3
   },
   "file_extension": ".py",
   "mimetype": "text/x-python",
   "name": "python",
   "nbconvert_exporter": "python",
   "pygments_lexer": "ipython3",
   "version": "3.6.5"
  }
 },
 "nbformat": 4,
 "nbformat_minor": 2
}
