{
 "cells": [
  {
   "cell_type": "code",
   "execution_count": 1,
   "metadata": {},
   "outputs": [],
   "source": [
    "# Import Dependencies\n",
    "import pandas as pd"
   ]
  },
  {
   "cell_type": "code",
   "execution_count": 2,
   "metadata": {},
   "outputs": [
    {
     "data": {
      "text/html": [
       "<div>\n",
       "<style scoped>\n",
       "    .dataframe tbody tr th:only-of-type {\n",
       "        vertical-align: middle;\n",
       "    }\n",
       "\n",
       "    .dataframe tbody tr th {\n",
       "        vertical-align: top;\n",
       "    }\n",
       "\n",
       "    .dataframe thead th {\n",
       "        text-align: right;\n",
       "    }\n",
       "</style>\n",
       "<table border=\"1\" class=\"dataframe\">\n",
       "  <thead>\n",
       "    <tr style=\"text-align: right;\">\n",
       "      <th></th>\n",
       "      <th>unitid</th>\n",
       "      <th>institution name</th>\n",
       "      <th>year</th>\n",
       "      <th>EF2001D1.Type of student counted</th>\n",
       "      <th>EF2001D1.Grand total</th>\n",
       "      <th>IDX_EF</th>\n",
       "    </tr>\n",
       "  </thead>\n",
       "  <tbody>\n",
       "    <tr>\n",
       "      <th>0</th>\n",
       "      <td>100654</td>\n",
       "      <td>Alabama A &amp; M University</td>\n",
       "      <td>2001</td>\n",
       "      <td>Undergraduate</td>\n",
       "      <td>4693</td>\n",
       "      <td>-2</td>\n",
       "    </tr>\n",
       "    <tr>\n",
       "      <th>1</th>\n",
       "      <td>100663</td>\n",
       "      <td>University of Alabama at Birmingham</td>\n",
       "      <td>2001</td>\n",
       "      <td>Undergraduate</td>\n",
       "      <td>12910</td>\n",
       "      <td>-2</td>\n",
       "    </tr>\n",
       "    <tr>\n",
       "      <th>2</th>\n",
       "      <td>100706</td>\n",
       "      <td>University of Alabama in Huntsville</td>\n",
       "      <td>2001</td>\n",
       "      <td>Undergraduate</td>\n",
       "      <td>6529</td>\n",
       "      <td>-2</td>\n",
       "    </tr>\n",
       "    <tr>\n",
       "      <th>3</th>\n",
       "      <td>100724</td>\n",
       "      <td>Alabama State University</td>\n",
       "      <td>2001</td>\n",
       "      <td>Undergraduate</td>\n",
       "      <td>5228</td>\n",
       "      <td>-2</td>\n",
       "    </tr>\n",
       "    <tr>\n",
       "      <th>4</th>\n",
       "      <td>100751</td>\n",
       "      <td>The University of Alabama</td>\n",
       "      <td>2001</td>\n",
       "      <td>Undergraduate</td>\n",
       "      <td>16983</td>\n",
       "      <td>-2</td>\n",
       "    </tr>\n",
       "  </tbody>\n",
       "</table>\n",
       "</div>"
      ],
      "text/plain": [
       "   unitid                     institution name  year  \\\n",
       "0  100654             Alabama A & M University  2001   \n",
       "1  100663  University of Alabama at Birmingham  2001   \n",
       "2  100706  University of Alabama in Huntsville  2001   \n",
       "3  100724             Alabama State University  2001   \n",
       "4  100751            The University of Alabama  2001   \n",
       "\n",
       "  EF2001D1.Type of student counted EF2001D1.Grand total IDX_EF  \n",
       "0                    Undergraduate                 4693     -2  \n",
       "1                    Undergraduate                12910     -2  \n",
       "2                    Undergraduate                 6529     -2  \n",
       "3                    Undergraduate                 5228     -2  \n",
       "4                    Undergraduate                16983     -2  "
      ]
     },
     "execution_count": 2,
     "metadata": {},
     "output_type": "execute_result"
    }
   ],
   "source": [
    "# Create a reference the CSV file desired\n",
    "enrollment_csv = \"Enrollment -- 12-Month Enrollment Rates 2001-17/Comprehensive 12-Month Enrollment Rates 2001-17.csv\"\n",
    "\n",
    "# Read the CSV into a Pandas DataFrame\n",
    "enrollment_df = pd.read_csv(enrollment_csv)\n",
    "\n",
    "# Print the first five rows of data to the screen\n",
    "enrollment_df.head()"
   ]
  },
  {
   "cell_type": "code",
   "execution_count": 3,
   "metadata": {},
   "outputs": [
    {
     "name": "stdout",
     "output_type": "stream",
     "text": [
      "90267\n"
     ]
    }
   ],
   "source": [
    "# How many institutions are we starting with?\n",
    "totalInstitutions = len(enrollment_df)\n",
    "print(totalInstitutions)"
   ]
  },
  {
   "cell_type": "code",
   "execution_count": 4,
   "metadata": {},
   "outputs": [
    {
     "data": {
      "text/html": [
       "<div>\n",
       "<style scoped>\n",
       "    .dataframe tbody tr th:only-of-type {\n",
       "        vertical-align: middle;\n",
       "    }\n",
       "\n",
       "    .dataframe tbody tr th {\n",
       "        vertical-align: top;\n",
       "    }\n",
       "\n",
       "    .dataframe thead th {\n",
       "        text-align: right;\n",
       "    }\n",
       "</style>\n",
       "<table border=\"1\" class=\"dataframe\">\n",
       "  <thead>\n",
       "    <tr style=\"text-align: right;\">\n",
       "      <th></th>\n",
       "      <th>unitid</th>\n",
       "      <th>institution name</th>\n",
       "      <th>year</th>\n",
       "      <th>EF2001D1.Type of student counted</th>\n",
       "      <th>EF2001D1.Grand total</th>\n",
       "    </tr>\n",
       "  </thead>\n",
       "  <tbody>\n",
       "    <tr>\n",
       "      <th>0</th>\n",
       "      <td>100654</td>\n",
       "      <td>Alabama A &amp; M University</td>\n",
       "      <td>2001</td>\n",
       "      <td>Undergraduate</td>\n",
       "      <td>4693</td>\n",
       "    </tr>\n",
       "    <tr>\n",
       "      <th>1</th>\n",
       "      <td>100663</td>\n",
       "      <td>University of Alabama at Birmingham</td>\n",
       "      <td>2001</td>\n",
       "      <td>Undergraduate</td>\n",
       "      <td>12910</td>\n",
       "    </tr>\n",
       "    <tr>\n",
       "      <th>2</th>\n",
       "      <td>100706</td>\n",
       "      <td>University of Alabama in Huntsville</td>\n",
       "      <td>2001</td>\n",
       "      <td>Undergraduate</td>\n",
       "      <td>6529</td>\n",
       "    </tr>\n",
       "    <tr>\n",
       "      <th>3</th>\n",
       "      <td>100724</td>\n",
       "      <td>Alabama State University</td>\n",
       "      <td>2001</td>\n",
       "      <td>Undergraduate</td>\n",
       "      <td>5228</td>\n",
       "    </tr>\n",
       "    <tr>\n",
       "      <th>4</th>\n",
       "      <td>100751</td>\n",
       "      <td>The University of Alabama</td>\n",
       "      <td>2001</td>\n",
       "      <td>Undergraduate</td>\n",
       "      <td>16983</td>\n",
       "    </tr>\n",
       "  </tbody>\n",
       "</table>\n",
       "</div>"
      ],
      "text/plain": [
       "   unitid                     institution name  year  \\\n",
       "0  100654             Alabama A & M University  2001   \n",
       "1  100663  University of Alabama at Birmingham  2001   \n",
       "2  100706  University of Alabama in Huntsville  2001   \n",
       "3  100724             Alabama State University  2001   \n",
       "4  100751            The University of Alabama  2001   \n",
       "\n",
       "  EF2001D1.Type of student counted EF2001D1.Grand total  \n",
       "0                    Undergraduate                 4693  \n",
       "1                    Undergraduate                12910  \n",
       "2                    Undergraduate                 6529  \n",
       "3                    Undergraduate                 5228  \n",
       "4                    Undergraduate                16983  "
      ]
     },
     "execution_count": 4,
     "metadata": {},
     "output_type": "execute_result"
    }
   ],
   "source": [
    "# Delete columns that we're not interested in (The variable IDX_EF contains the UNITID of the parent institution.)\n",
    "enrollment_df = enrollment_df.drop([\"IDX_EF\"], axis=1)\n",
    "enrollment_df.head()"
   ]
  },
  {
   "cell_type": "code",
   "execution_count": 5,
   "metadata": {},
   "outputs": [
    {
     "name": "stdout",
     "output_type": "stream",
     "text": [
      "90266\n"
     ]
    }
   ],
   "source": [
    "# Remove the rows with missing data\n",
    "enrollment_df = enrollment_df.dropna(how=\"any\")\n",
    "institutionsMinusBlanks = len(enrollment_df)\n",
    "print(institutionsMinusBlanks)"
   ]
  },
  {
   "cell_type": "code",
   "execution_count": 6,
   "metadata": {},
   "outputs": [
    {
     "name": "stdout",
     "output_type": "stream",
     "text": [
      "1\n"
     ]
    }
   ],
   "source": [
    "# How many institutions had data that wasn't incuded?\n",
    "instutionsWithoutData = (totalInstitutions - institutionsMinusBlanks)\n",
    "print(instutionsWithoutData)"
   ]
  },
  {
   "cell_type": "code",
   "execution_count": 8,
   "metadata": {},
   "outputs": [
    {
     "name": "stdout",
     "output_type": "stream",
     "text": [
      "2017    6330\n",
      "2016    6275\n",
      "2015    6174\n",
      "2014    6038\n",
      "2013    5891\n",
      "2012    5751\n",
      "2011    5607\n",
      "2010    5409\n",
      "2009    5176\n",
      "2008    5025\n",
      "2007    4910\n",
      "2006    4841\n",
      "2005    4762\n",
      "2004    4682\n",
      "2003    4604\n",
      "2002    4522\n",
      "2001    4253\n",
      "year      16\n",
      "Name: year, dtype: int64\n"
     ]
    }
   ],
   "source": [
    "# Count how many Institution entries do we have per year\n",
    "InstitutionYearCounts = enrollment_df[\"year\"].value_counts()\n",
    "print(InstitutionYearCounts)"
   ]
  },
  {
   "cell_type": "code",
   "execution_count": null,
   "metadata": {},
   "outputs": [],
   "source": [
    "# DATA FAULT: This data is not comprehensive. ONLY institutions that apply for federal funding have to provide this information.\n",
    "# So... more and more institutions are reporting their enrollment data...\n",
    "# If we simply total enrollments per year from this dataset, it could look like enrollment rates are increasing, \n",
    "# when in reality we're just getting more data from new sources. \n",
    "# How do we more accurately show the data? Average? Enrollments/Institution? "
   ]
  }
 ],
 "metadata": {
  "kernelspec": {
   "display_name": "Python 3",
   "language": "python",
   "name": "python3"
  },
  "language_info": {
   "codemirror_mode": {
    "name": "ipython",
    "version": 3
   },
   "file_extension": ".py",
   "mimetype": "text/x-python",
   "name": "python",
   "nbconvert_exporter": "python",
   "pygments_lexer": "ipython3",
   "version": "3.6.5"
  }
 },
 "nbformat": 4,
 "nbformat_minor": 2
}
